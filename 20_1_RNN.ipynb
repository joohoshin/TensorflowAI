{
  "nbformat": 4,
  "nbformat_minor": 0,
  "metadata": {
    "colab": {
      "name": "20_1_RNN.ipynb",
      "provenance": [],
      "collapsed_sections": [],
      "authorship_tag": "ABX9TyMgq5DTAXzISf2BJ9R9Kg9K",
      "include_colab_link": true
    },
    "kernelspec": {
      "name": "python3",
      "display_name": "Python 3"
    },
    "language_info": {
      "name": "python"
    }
  },
  "cells": [
    {
      "cell_type": "markdown",
      "metadata": {
        "id": "view-in-github",
        "colab_type": "text"
      },
      "source": [
        "<a href=\"https://colab.research.google.com/github/joohoshin/TensorflowAI/blob/main/20_1_RNN.ipynb\" target=\"_parent\"><img src=\"https://colab.research.google.com/assets/colab-badge.svg\" alt=\"Open In Colab\"/></a>"
      ]
    },
    {
      "cell_type": "markdown",
      "metadata": {
        "id": "fbg3tMG3vhD-"
      },
      "source": [
        "RNN은 순서가 있는 데이터셋에 활용가능합니다. \n",
        "\n",
        "https://www.oreilly.com/library/view/neural-networks-and/9781492037354/ch04.html\n",
        "\n",
        "Tensorflow에서는 simpleRNN, LSTM, GRU를 손쉽게 구현할수 있습니다\n",
        "\n",
        "https://www.tensorflow.org/guide/keras/rnn\n"
      ]
    },
    {
      "cell_type": "code",
      "metadata": {
        "id": "DfyMEcBRveUb"
      },
      "source": [
        "import numpy as np\n",
        "import tensorflow as tf\n",
        "from tensorflow import keras\n",
        "from tensorflow.keras import layers"
      ],
      "execution_count": null,
      "outputs": []
    },
    {
      "cell_type": "code",
      "metadata": {
        "id": "PBajZfLxvhgN"
      },
      "source": [
        "import numpy as np\n",
        "x = np.linspace(0, 100, 1000) # Start, End, N\n",
        "y = np.sin(x)"
      ],
      "execution_count": null,
      "outputs": []
    },
    {
      "cell_type": "code",
      "metadata": {
        "colab": {
          "base_uri": "https://localhost:8080/"
        },
        "id": "7tfWHyQ-wgug",
        "outputId": "a7ff3bd5-5109-41b7-98af-42a7f236445d"
      },
      "source": [
        "y"
      ],
      "execution_count": null,
      "outputs": [
        {
          "output_type": "execute_result",
          "data": {
            "text/plain": [
              "array([ 0.00000000e+00,  9.99330162e-02,  1.98865536e-01,  2.95807081e-01,\n",
              "        3.89787104e-01,  4.79864709e-01,  5.65138069e-01,  6.44753455e-01,\n",
              "        7.17913784e-01,  7.83886601e-01,  8.42011406e-01,  8.91706275e-01,\n",
              "        9.32473678e-01,  9.63905466e-01,  9.85686954e-01,  9.97600074e-01,\n",
              "        9.99525555e-01,  9.91444120e-01,  9.73436677e-01,  9.45683512e-01,\n",
              "        9.08462478e-01,  8.62146222e-01,  8.07198446e-01,  7.44169268e-01,\n",
              "        6.73689717e-01,  5.96465408e-01,  5.13269488e-01,  4.24934884e-01,\n",
              "        3.32345974e-01,  2.36429728e-01,  1.38146426e-01,  3.84800478e-02,\n",
              "       -6.15715795e-02, -1.61006773e-01, -2.58830020e-01, -3.54061947e-01,\n",
              "       -4.45749125e-01, -5.32973611e-01, -6.14862143e-01, -6.90594881e-01,\n",
              "       -7.59413613e-01, -8.20629350e-01, -8.73629220e-01, -9.17882606e-01,\n",
              "       -9.52946458e-01, -9.78469728e-01, -9.94196886e-01, -9.99970476e-01,\n",
              "       -9.95732696e-01, -9.81525973e-01, -9.57492539e-01, -9.23873010e-01,\n",
              "       -8.81003973e-01, -8.29314618e-01, -7.69322443e-01, -7.01628067e-01,\n",
              "       -6.26909226e-01, -5.45913979e-01, -4.59453224e-01, -3.68392576e-01,\n",
              "       -2.73643705e-01, -1.76155204e-01, -7.69030966e-02,  2.31189392e-02,\n",
              "        1.22909516e-01,  2.21469563e-01,  3.17812332e-01,  4.10973269e-01,\n",
              "        5.00019679e-01,  5.84060060e-01,  6.62253026e-01,  7.33815735e-01,\n",
              "        7.98031727e-01,  8.54258091e-01,  9.01931909e-01,  9.40575886e-01,\n",
              "        9.69803131e-01,  9.89321030e-01,  9.98934178e-01,  9.98546331e-01,\n",
              "        9.88161371e-01,  9.67883269e-01,  9.37915044e-01,  8.98556726e-01,\n",
              "        8.50202358e-01,  7.93336048e-01,  7.28527123e-01,  6.56424427e-01,\n",
              "        5.77749829e-01,  4.93290992e-01,  4.03893491e-01,  3.10452344e-01,\n",
              "        2.13903051e-01,  1.15212232e-01,  1.53679464e-02, -8.46301977e-02,\n",
              "       -1.83781052e-01, -2.81091953e-01, -3.75588654e-01, -4.66325087e-01,\n",
              "       -5.52392830e-01, -6.32930199e-01, -7.07130883e-01, -7.74252009e-01,\n",
              "       -8.33621582e-01, -8.84645214e-01, -9.26812074e-01, -9.59700000e-01,\n",
              "       -9.82979731e-01, -9.96418197e-01, -9.99880856e-01, -9.93333042e-01,\n",
              "       -9.76840310e-01, -9.50567779e-01, -9.14778480e-01, -8.69830725e-01,\n",
              "       -8.16174515e-01, -7.54347038e-01, -6.84967290e-01, -6.08729879e-01,\n",
              "       -5.26398068e-01, -4.38796135e-01, -3.46801121e-01, -2.51334050e-01,\n",
              "       -1.53350707e-01, -5.38320680e-02,  4.62255200e-02,  1.45820313e-01,\n",
              "        2.43955203e-01,  3.39647694e-01,  4.31939746e-01,  5.19907361e-01,\n",
              "        6.02669837e-01,  6.79398585e-01,  7.49325420e-01,  8.11750260e-01,\n",
              "        8.66048127e-01,  9.11675409e-01,  9.48175302e-01,  9.75182380e-01,\n",
              "        9.92426258e-01,  9.99734295e-01,  9.97033327e-01,  9.84350394e-01,\n",
              "        9.61812473e-01,  9.29645207e-01,  8.88170644e-01,  8.37804012e-01,\n",
              "        7.79049567e-01,  7.12495538e-01,  6.38808241e-01,  5.58725409e-01,\n",
              "        4.73048805e-01,  3.82636195e-01,  2.88392758e-01,  1.91262030e-01,\n",
              "        9.22164501e-02, -7.75237011e-03, -1.07643576e-01, -2.06457091e-01,\n",
              "       -3.03203626e-01, -3.96914588e-01, -4.86651773e-01, -5.71516763e-01,\n",
              "       -6.50659918e-01, -7.23288884e-01, -7.88676523e-01, -8.46168195e-01,\n",
              "       -8.95188314e-01, -9.35246107e-01, -9.65940528e-01, -9.86964275e-01,\n",
              "       -9.98106866e-01, -9.99256743e-01, -9.90402396e-01, -9.71632471e-01,\n",
              "       -9.43134885e-01, -9.05194949e-01, -8.58192502e-01, -8.02598119e-01,\n",
              "       -7.38968392e-01, -6.67940360e-01, -5.90225132e-01, -5.06600767e-01,\n",
              "       -4.17904484e-01, -3.25024281e-01, -2.28890044e-01, -1.30464236e-01,\n",
              "       -3.07322630e-02,  6.93073906e-02,  1.68653162e-01,  2.66310434e-01,\n",
              "        3.61301495e-01,  4.52675326e-01,  5.39517122e-01,  6.20957454e-01,\n",
              "        6.96180967e-01,  7.64434548e-01,  8.25034866e-01,  8.77375211e-01,\n",
              "        9.20931567e-01,  9.55267865e-01,  9.80040339e-01,  9.95000977e-01,\n",
              "        9.99999998e-01,  9.94987352e-01,  9.80013225e-01,  9.55227533e-01,\n",
              "        9.20878422e-01,  8.77309784e-01,  8.24957813e-01,  7.64346640e-01,\n",
              "        6.96083083e-01,  6.20850576e-01,  5.39402319e-01,  4.52553747e-01,\n",
              "        3.61174357e-01,  2.66179011e-01,  1.68518769e-01,  6.91713736e-02,\n",
              "       -3.08685425e-02, -1.30599413e-01, -2.29022766e-01, -3.25153219e-01,\n",
              "       -4.18028347e-01, -5.06718315e-01, -5.90335188e-01, -6.68041823e-01,\n",
              "       -7.39060246e-01, -8.02679444e-01, -8.58262484e-01, -9.05252886e-01,\n",
              "       -9.43180199e-01, -9.71664706e-01, -9.90421231e-01, -9.99261990e-01,\n",
              "       -9.98098471e-01, -9.86942323e-01, -9.65905238e-01, -9.35197833e-01,\n",
              "       -8.95127539e-01, -8.46095527e-01, -7.88592690e-01, -7.23194725e-01,\n",
              "       -6.50556377e-01, -5.71404875e-01, -4.86532659e-01, -3.96789440e-01,\n",
              "       -3.03073697e-01, -2.06323682e-01, -1.07508023e-01, -7.61602996e-03,\n",
              "        9.23522125e-02,  1.91395855e-01,  2.88523307e-01,  3.82762159e-01,\n",
              "        4.73168925e-01,  5.58838481e-01,  6.38913133e-01,  7.12591201e-01,\n",
              "        7.79135042e-01,  8.37878445e-01,  8.88233287e-01,  9.29695435e-01,\n",
              "        9.61849783e-01,  9.84374411e-01,  9.97043812e-01,  9.99731143e-01,\n",
              "        9.92409500e-01,  9.75152184e-01,  9.48131970e-01,  9.11619376e-01,\n",
              "        8.65979952e-01,  8.11670627e-01,  7.49235126e-01,  6.79298533e-01,\n",
              "        6.02561030e-01,  5.19790888e-01,  4.31816772e-01,  3.39519452e-01,\n",
              "        2.43822976e-01,  1.45685425e-01,  4.60893211e-02, -5.39682139e-02,\n",
              "       -1.53485437e-01, -2.51466016e-01, -3.46929000e-01, -4.38918647e-01,\n",
              "       -5.26513988e-01, -6.08838046e-01, -6.85066621e-01, -7.54436537e-01,\n",
              "       -8.16253287e-01, -8.69897982e-01, -9.14833549e-01, -9.50610107e-01,\n",
              "       -9.76869474e-01, -9.93348751e-01, -9.99882951e-01, -9.96406658e-01,\n",
              "       -9.82954673e-01, -9.59661675e-01, -9.26760864e-01, -8.84581633e-01,\n",
              "       -8.33546266e-01, -7.74165712e-01, -7.07034470e-01, -6.32824635e-01,\n",
              "       -5.52279170e-01, -4.66204471e-01, -3.75462289e-01, -2.80961103e-01,\n",
              "       -1.83647029e-01, -8.44943419e-02,  1.55042743e-02,  1.15347667e-01,\n",
              "        2.14036237e-01,  3.10581948e-01,  4.04018216e-01,  4.93409589e-01,\n",
              "        5.77861109e-01,  6.56527278e-01,  7.28620514e-01,  7.93419045e-01,\n",
              "        8.50274129e-01,  8.98616553e-01,  9.37962328e-01,  9.67917537e-01,\n",
              "        9.88182279e-01,  9.98553671e-01,  9.98927876e-01,  9.89301149e-01,\n",
              "        9.69769869e-01,  9.40529577e-01,  9.01873017e-01,  8.54187205e-01,\n",
              "        7.97949556e-01,  7.33723103e-01,  6.62150859e-01,  5.83949382e-01,\n",
              "        4.99901599e-01,  4.10848968e-01,  3.17683054e-01,  2.21336603e-01,\n",
              "        1.22774204e-01,  2.29826312e-02, -7.70390363e-02, -1.76289415e-01,\n",
              "       -2.73774842e-01, -3.68519328e-01, -4.59574321e-01, -5.46028209e-01,\n",
              "       -6.27015445e-01, -7.01725212e-01, -7.69409540e-01, -8.29390797e-01,\n",
              "       -8.81068471e-01, -9.23925181e-01, -9.57531860e-01, -9.81552050e-01,\n",
              "       -9.95745269e-01, -9.99969419e-01, -9.94182209e-01, -9.78441579e-01,\n",
              "       -9.52905118e-01, -9.17828489e-01, -8.73562868e-01, -8.20551427e-01,\n",
              "       -7.59324900e-01, -6.90496265e-01, -6.14754612e-01, -5.32858241e-01,\n",
              "       -4.45627071e-01, -3.53934432e-01, -2.58698320e-01, -1.60872206e-01,\n",
              "       -6.14354935e-02,  3.86162907e-02,  1.38281461e-01,  2.36562204e-01,\n",
              "        3.32474565e-01,  4.25058302e-01,  5.13386497e-01,  5.96574838e-01,\n",
              "        6.73790471e-01,  7.44260338e-01,  8.07278920e-01,  8.62215294e-01,\n",
              "        9.08519457e-01,  9.45727827e-01,  9.73467885e-01,  9.91461908e-01,\n",
              "        9.99529745e-01,  9.97590624e-01,  9.85663960e-01,  9.63869156e-01,\n",
              "        9.32424417e-01,  8.91644555e-01,  8.41937846e-01,  7.83801937e-01,\n",
              "        7.17818864e-01,  6.44649228e-01,  5.65025580e-01,  4.79745084e-01,\n",
              "        3.89661541e-01,  2.95676836e-01,  1.98731914e-01,  9.97973536e-02,\n",
              "       -1.36344173e-04, -1.00068677e-01, -1.98999155e-01, -2.95937321e-01,\n",
              "       -3.89912661e-01, -4.79984325e-01, -5.65250547e-01, -6.44857669e-01,\n",
              "       -7.18008691e-01, -7.83971250e-01, -8.42084951e-01, -8.91767978e-01,\n",
              "       -9.32522922e-01, -9.63941758e-01, -9.85709931e-01, -9.97609505e-01,\n",
              "       -9.99521346e-01, -9.91426313e-01, -9.73405451e-01, -9.45639179e-01,\n",
              "       -9.08405483e-01, -8.62077134e-01, -8.07117957e-01, -7.44078185e-01,\n",
              "       -6.73588950e-01, -5.96355968e-01, -5.13152468e-01, -4.24811458e-01,\n",
              "       -3.32217377e-01, -2.36297247e-01, -1.38011388e-01, -3.83438043e-02,\n",
              "        6.17076644e-02,  1.61141337e-01,  2.58961716e-01,  3.54189456e-01,\n",
              "        4.45871170e-01,  5.33088971e-01,  6.14969663e-01,  6.90693484e-01,\n",
              "        7.59502313e-01,  8.20707258e-01,  8.73695556e-01,  9.17936706e-01,\n",
              "        9.52987780e-01,  9.78497859e-01,  9.94211544e-01,  9.99971515e-01,\n",
              "        9.95720104e-01,  9.81499877e-01,  9.57453201e-01,  9.23820823e-01,\n",
              "        8.80939459e-01,  8.29238424e-01,  7.69235330e-01,  7.01530910e-01,\n",
              "        6.26802996e-01,  5.45799739e-01,  4.59332118e-01,  3.68265817e-01,\n",
              "        2.73512562e-01,  1.76020991e-01,  7.67671555e-02, -2.32552467e-02,\n",
              "       -1.23044825e-01, -2.21602520e-01, -3.17941604e-01, -4.11097563e-01,\n",
              "       -5.00137751e-01, -5.84170726e-01, -6.62355179e-01, -7.33908354e-01,\n",
              "       -7.98113883e-01, -8.54328962e-01, -9.01990785e-01, -9.40622177e-01,\n",
              "       -9.69836374e-01, -9.89340894e-01, -9.98940462e-01, -9.98538973e-01,\n",
              "       -9.88140444e-01, -9.67848983e-01, -9.37867742e-01, -8.98496882e-01,\n",
              "       -8.50130571e-01, -7.93253037e-01, -7.28433718e-01, -6.56321564e-01,\n",
              "       -5.77638537e-01, -4.93172387e-01, -4.03768759e-01, -3.10322733e-01,\n",
              "       -2.13769860e-01, -1.15076794e-01, -1.52316182e-02,  8.47660519e-02,\n",
              "        1.83915073e-01,  2.81222797e-01,  3.75715013e-01,  4.66445695e-01,\n",
              "        5.52506479e-01,  6.33035752e-01,  7.07227283e-01,  7.74338291e-01,\n",
              "        8.33696882e-01,  8.84708778e-01,  9.26863266e-01,  9.59738308e-01,\n",
              "        9.83004770e-01,  9.96429717e-01,  9.99878742e-01,  9.93317315e-01,\n",
              "        9.76811127e-01,  9.50525433e-01,  9.14723394e-01,  8.69763451e-01,\n",
              "        8.16095727e-01,  7.54257524e-01,  6.84867947e-01,  6.08621701e-01,\n",
              "        5.26282138e-01,  4.38673613e-01,  3.46673235e-01,  2.51202080e-01,\n",
              "        1.53215974e-01,  5.36959210e-02, -4.63617180e-02, -1.45955199e-01,\n",
              "       -2.44087425e-01, -3.39775929e-01, -4.32062711e-01, -5.20023824e-01,\n",
              "       -6.02778633e-01, -6.79498624e-01, -7.49415701e-01, -8.11829878e-01,\n",
              "       -8.66116286e-01, -9.11731426e-01, -9.48218616e-01, -9.75212558e-01,\n",
              "       -9.92442997e-01, -9.99737429e-01, -9.97022823e-01, -9.84326358e-01,\n",
              "       -9.61775145e-01, -9.29594962e-01, -8.88107983e-01, -8.37729565e-01,\n",
              "       -7.78964077e-01, -7.12399861e-01, -6.38703336e-01, -5.58612327e-01,\n",
              "       -4.72928677e-01, -3.82510223e-01, -2.88262205e-01, -1.91128201e-01,\n",
              "       -9.20806861e-02,  7.88871012e-03,  1.07779127e-01,  2.06590496e-01,\n",
              "        3.03333549e-01,  3.97039728e-01,  4.86770878e-01,  5.71628641e-01,\n",
              "        6.50763448e-01,  7.23383029e-01,  7.88760341e-01,  8.46240847e-01,\n",
              "        8.95249073e-01,  9.35294364e-01,  9.65975800e-01,  9.86986209e-01,\n",
              "        9.98115242e-01,  9.99251478e-01,  9.90383542e-01,  9.71600217e-01,\n",
              "        9.43089554e-01,  9.05136994e-01,  8.58122505e-01,  8.02516780e-01,\n",
              "        7.38876524e-01,  6.67838884e-01,  5.90115064e-01,  5.06483209e-01,\n",
              "        4.17780613e-01,  3.24895337e-01,  2.28757317e-01,  1.30329055e-01,\n",
              "        3.05959830e-02, -6.94434063e-02, -1.68787551e-01, -2.66441852e-01,\n",
              "       -3.61428625e-01, -4.52796896e-01, -5.39631916e-01, -6.21064321e-01,\n",
              "       -6.96278837e-01, -7.64522442e-01, -8.25111904e-01, -8.77440621e-01,\n",
              "       -9.20984695e-01, -9.55308179e-01, -9.80067435e-01, -9.95014584e-01,\n",
              "       -9.99999979e-01, -9.94973708e-01, -9.79986093e-01, -9.55187184e-01,\n",
              "       -9.20825260e-01, -8.77244341e-01, -8.24880744e-01, -7.64258717e-01,\n",
              "       -6.95985187e-01, -6.20743686e-01, -5.39287506e-01, -4.52432159e-01,\n",
              "       -3.61047213e-01, -2.66047583e-01, -1.68384373e-01, -6.90353554e-02,\n",
              "        3.10048214e-02,  1.30734588e-01,  2.29155484e-01,  3.25282152e-01,\n",
              "        4.18152203e-01,  5.06835854e-01,  5.90445234e-01,  6.68143274e-01,\n",
              "        7.39152085e-01,  8.02760754e-01,  8.58332449e-01,  9.05310807e-01,\n",
              "        9.43225495e-01,  9.71696924e-01,  9.90440048e-01,  9.99267218e-01,\n",
              "        9.98090057e-01,  9.86920352e-01,  9.65869930e-01,  9.35149541e-01,\n",
              "        8.95066747e-01,  8.46022844e-01,  7.88508842e-01,  7.23100553e-01,\n",
              "        6.50452823e-01,  5.71292976e-01,  4.86413535e-01,  3.96664284e-01,\n",
              "        3.02943763e-01,  2.06190270e-01,  1.07372468e-01,  7.47968968e-03,\n",
              "       -9.24879731e-02, -1.91529677e-01, -2.88653850e-01, -3.82888117e-01,\n",
              "       -4.73289036e-01, -5.58951543e-01, -6.39018014e-01, -7.12686850e-01,\n",
              "       -7.79220503e-01, -8.37952861e-01, -8.88295915e-01, -9.29745646e-01,\n",
              "       -9.61887075e-01, -9.84398411e-01, -9.97054279e-01, -9.99727973e-01,\n",
              "       -9.92392723e-01, -9.75121970e-01, -9.48088621e-01, -9.11563325e-01,\n",
              "       -8.65911761e-01, -8.11590978e-01, -7.49144818e-01, -6.79198469e-01,\n",
              "       -6.02452212e-01, -5.19674405e-01, -4.31693791e-01, -3.39391203e-01,\n",
              "       -2.43690744e-01, -1.45550534e-01, -4.59531214e-02,  5.41043589e-02,\n",
              "        1.53620164e-01,  2.51597976e-01,  3.47056873e-01,  4.39041152e-01,\n",
              "        5.26629898e-01,  6.08946201e-01,  6.85165939e-01,  7.54526023e-01,\n",
              "        8.16332045e-01,  8.69965223e-01,  9.14888600e-01,  9.50652418e-01,\n",
              "        9.76898621e-01,  9.93364441e-01,  9.99885028e-01,  9.96395100e-01,\n",
              "        9.82929598e-01,  9.59623332e-01,  9.26709638e-01,  8.84518036e-01,\n",
              "        8.33470935e-01,  7.74079402e-01,  7.06938044e-01,  6.32719058e-01,\n",
              "        5.52165501e-01,  4.66083846e-01,  3.75335916e-01,  2.80830248e-01,\n",
              "        1.83513002e-01,  8.43584845e-02, -1.56406019e-02, -1.15483100e-01,\n",
              "       -2.14169420e-01, -3.10711547e-01, -4.04142933e-01, -4.93528176e-01,\n",
              "       -5.77972379e-01, -6.56630116e-01, -7.28713892e-01, -7.93502027e-01,\n",
              "       -8.50345885e-01, -8.98676364e-01, -9.38009595e-01, -9.67951787e-01,\n",
              "       -9.88203170e-01, -9.98560992e-01, -9.98921555e-01, -9.89281248e-01,\n",
              "       -9.69736589e-01, -9.40483250e-01, -9.01814107e-01, -8.54116303e-01,\n",
              "       -7.97867371e-01, -7.33630458e-01, -6.62048681e-01, -5.83838694e-01,\n",
              "       -4.99783509e-01, -4.10724658e-01, -3.17553770e-01, -2.21203639e-01,\n",
              "       -1.22638890e-01, -2.28463229e-02,  7.71749745e-02,  1.76423622e-01,\n",
              "        2.73905975e-01,  3.68646073e-01,  4.59695409e-01,  5.46142428e-01,\n",
              "        6.27121652e-01,  7.01822343e-01,  7.69496624e-01,  8.29466961e-01,\n",
              "        8.81132952e-01,  9.23977334e-01,  9.57571163e-01,  9.81578110e-01,\n",
              "        9.95757824e-01,  9.99968344e-01,  9.94167514e-01,  9.78413411e-01,\n",
              "        9.52863760e-01,  9.17774355e-01,  8.73496500e-01,  8.20473489e-01,\n",
              "        7.59236172e-01,  6.90397636e-01,  6.14647069e-01,  5.32742861e-01,\n",
              "        4.45505009e-01,  3.53806910e-01,  2.58566614e-01,  1.60737636e-01,\n",
              "        6.12994063e-02, -3.87525328e-02, -1.38416494e-01, -2.36694676e-01,\n",
              "       -3.32603150e-01, -4.25181712e-01, -5.13503497e-01, -5.96684256e-01,\n",
              "       -6.73891212e-01, -7.44351394e-01, -8.07359378e-01, -8.62284350e-01,\n",
              "       -9.08576419e-01, -9.45772124e-01, -9.73499075e-01, -9.91479677e-01,\n",
              "       -9.99533917e-01, -9.97581156e-01, -9.85640946e-01, -9.63832828e-01,\n",
              "       -9.32375138e-01, -8.91582819e-01, -8.41864271e-01, -7.83717258e-01,\n",
              "       -7.17723930e-01, -6.44544990e-01, -5.64913081e-01, -4.79625450e-01,\n",
              "       -3.89535970e-01, -2.95546585e-01, -1.98598287e-01, -9.96616891e-02,\n",
              "        2.72688344e-04,  1.00204336e-01,  1.99132771e-01,  2.96067555e-01,\n",
              "        3.90038210e-01,  4.80103932e-01,  5.65363014e-01,  6.44961871e-01,\n",
              "        7.18103585e-01,  7.84055885e-01,  8.42158479e-01,  8.91829664e-01,\n",
              "        9.32572149e-01,  9.63978032e-01,  9.85732889e-01,  9.97618918e-01,\n",
              "        9.99517119e-01,  9.91408488e-01,  9.73374207e-01,  9.45594828e-01,\n",
              "        9.08348470e-01,  8.62008030e-01,  8.07037453e-01,  7.43987087e-01,\n",
              "        6.73488171e-01,  5.96246516e-01,  5.13035440e-01,  4.24688024e-01,\n",
              "        3.32088774e-01,  2.36164762e-01,  1.37876347e-01,  3.82075600e-02,\n",
              "       -6.18437482e-02, -1.61275897e-01, -2.59093406e-01, -3.54316958e-01,\n",
              "       -4.45993207e-01, -5.33204321e-01, -6.15077172e-01, -6.90792075e-01,\n",
              "       -7.59590998e-01, -8.20785151e-01, -8.73761876e-01, -9.17990789e-01,\n",
              "       -9.53029085e-01, -9.78525972e-01, -9.94226183e-01, -9.99972534e-01,\n",
              "       -9.95707494e-01, -9.81473763e-01, -9.57413845e-01, -9.23768618e-01,\n",
              "       -8.80874929e-01, -8.29162214e-01, -7.69148204e-01, -7.01433739e-01,\n",
              "       -6.26696753e-01, -5.45685489e-01, -4.59211004e-01, -3.68139052e-01,\n",
              "       -2.73381415e-01, -1.75886774e-01, -7.66312129e-02,  2.33915538e-02,\n",
              "        1.23180132e-01,  2.21735472e-01,  3.18070870e-01,  4.11221850e-01,\n",
              "        5.00255813e-01,  5.84281382e-01,  6.62457321e-01,  7.34000958e-01,\n",
              "        7.98196023e-01,  8.54399816e-01,  9.02049644e-01,  9.40668451e-01,\n",
              "        9.69869600e-01,  9.89360739e-01,  9.98946728e-01,  9.98531596e-01,\n",
              "        9.88119499e-01,  9.67814680e-01,  9.37820423e-01,  8.98437021e-01,\n",
              "        8.50058768e-01,  7.93170010e-01,  7.28340299e-01,  6.56218689e-01,\n",
              "        5.77527235e-01,  4.93053772e-01,  4.03644019e-01,  3.10193118e-01,\n",
              "        2.13636666e-01,  1.14941355e-01,  1.50952897e-02, -8.49019046e-02,\n",
              "       -1.84049089e-01, -2.81353636e-01, -3.75841364e-01, -4.66566294e-01,\n",
              "       -5.52620118e-01, -6.33141294e-01, -7.07323670e-01, -7.74424558e-01,\n",
              "       -8.33772166e-01, -8.84772326e-01, -9.26914440e-01, -9.59776597e-01,\n",
              "       -9.83029791e-01, -9.96441219e-01, -9.99876610e-01, -9.93301570e-01,\n",
              "       -9.76781927e-01, -9.50483069e-01, -9.14668292e-01, -8.69696161e-01,\n",
              "       -8.16016923e-01, -7.54167996e-01, -6.84768591e-01, -6.08513512e-01,\n",
              "       -5.26166198e-01, -4.38551084e-01, -3.46545343e-01, -2.51070106e-01,\n",
              "       -1.53081239e-01, -5.35597730e-02,  4.64979151e-02,  1.46090082e-01,\n",
              "        2.44219643e-01,  3.39904159e-01,  4.32185668e-01,  5.20140278e-01,\n",
              "        6.02887418e-01,  6.79598650e-01,  7.49505967e-01,  8.11909481e-01,\n",
              "        8.66184428e-01,  9.11787426e-01,  9.48261913e-01,  9.75242718e-01,\n",
              "        9.92459719e-01,  9.99740544e-01,  9.97012301e-01,  9.84302303e-01,\n",
              "        9.61737800e-01,  9.29544699e-01,  8.88045307e-01,  8.37655101e-01,\n",
              "        7.78878573e-01,  7.12304172e-01,  6.38598420e-01,  5.58499234e-01,\n",
              "        4.72808539e-01,  3.82384244e-01,  2.88131645e-01,  1.90994369e-01,\n",
              "        9.19449203e-02, -8.02504997e-03, -1.07914676e-01, -2.06723897e-01,\n",
              "       -3.03463466e-01, -3.97164861e-01, -4.86889974e-01, -5.71740507e-01,\n",
              "       -6.50866965e-01, -7.23477161e-01, -7.88844144e-01, -8.46313484e-01,\n",
              "       -8.95309815e-01, -9.35342604e-01, -9.66011054e-01, -9.87008125e-01,\n",
              "       -9.98123600e-01, -9.99246194e-01, -9.90364670e-01, -9.71567945e-01,\n",
              "       -9.43044206e-01, -9.05079023e-01, -8.58052492e-01, -8.02435425e-01,\n",
              "       -7.38784643e-01, -6.67737396e-01, -5.90004985e-01, -5.06365641e-01])"
            ]
          },
          "metadata": {
            "tags": []
          },
          "execution_count": 3
        }
      ]
    },
    {
      "cell_type": "code",
      "metadata": {
        "colab": {
          "base_uri": "https://localhost:8080/",
          "height": 284
        },
        "id": "MZ9-PpH1v4tL",
        "outputId": "aef18c04-8c61-408e-b890-78e1f500dd03"
      },
      "source": [
        "import matplotlib.pyplot as plt\n",
        "\n",
        "plt.plot(x,y)"
      ],
      "execution_count": null,
      "outputs": [
        {
          "output_type": "execute_result",
          "data": {
            "text/plain": [
              "[<matplotlib.lines.Line2D at 0x7fe541459650>]"
            ]
          },
          "metadata": {
            "tags": []
          },
          "execution_count": 7
        },
        {
          "output_type": "display_data",
          "data": {
            "image/png": "[encoded data removed]",
            "text/plain": [
              "<Figure size 432x288 with 1 Axes>"
            ]
          },
          "metadata": {
            "tags": [],
            "needs_background": "light"
          }
        }
      ]
    },
    {
      "cell_type": "code",
      "metadata": {
        "id": "eiLlhs0BwF6t"
      },
      "source": [
        "TEST_SIZE = 300\n",
        "\n",
        "train = y[:-TEST_SIZE]\n",
        "test = y[-TEST_SIZE:]"
      ],
      "execution_count": null,
      "outputs": []
    },
    {
      "cell_type": "code",
      "metadata": {
        "id": "a3-NZXr4zUiy"
      },
      "source": [
        "window_size = 20\n",
        "\n",
        "inputs = []\n",
        "targets = []\n",
        "for i in range(len(train) - window_size):\n",
        "    inputs.append(np.array(train[i:i+window_size]))\n",
        "    targets.append(np.array(train[i+window_size]))\n"
      ],
      "execution_count": null,
      "outputs": []
    },
    {
      "cell_type": "code",
      "metadata": {
        "colab": {
          "base_uri": "https://localhost:8080/"
        },
        "id": "BwoRwcWUztwP",
        "outputId": "c34ff9ea-e1ed-4727-c74e-934a282c6e33"
      },
      "source": [
        "inputs[0]"
      ],
      "execution_count": null,
      "outputs": [
        {
          "output_type": "execute_result",
          "data": {
            "text/plain": [
              "array([0.        , 0.09993302, 0.19886554, 0.29580708, 0.3897871 ,\n",
              "       0.47986471, 0.56513807, 0.64475345, 0.71791378, 0.7838866 ,\n",
              "       0.84201141, 0.89170627, 0.93247368, 0.96390547, 0.98568695,\n",
              "       0.99760007, 0.99952556, 0.99144412, 0.97343668, 0.94568351])"
            ]
          },
          "metadata": {
            "tags": []
          },
          "execution_count": 10
        }
      ]
    },
    {
      "cell_type": "code",
      "metadata": {
        "colab": {
          "base_uri": "https://localhost:8080/"
        },
        "id": "vI_K2YfY0MpH",
        "outputId": "d9f10eb1-6314-448d-db5f-39e810a16200"
      },
      "source": [
        "targets[0]"
      ],
      "execution_count": null,
      "outputs": [
        {
          "output_type": "execute_result",
          "data": {
            "text/plain": [
              "array(0.90846248)"
            ]
          },
          "metadata": {
            "tags": []
          },
          "execution_count": 11
        }
      ]
    },
    {
      "cell_type": "code",
      "metadata": {
        "id": "Z7f39e4V0rHI"
      },
      "source": [
        "inputs = np.array(inputs)\n",
        "targets = np.array(targets)"
      ],
      "execution_count": null,
      "outputs": []
    },
    {
      "cell_type": "code",
      "metadata": {
        "colab": {
          "base_uri": "https://localhost:8080/"
        },
        "id": "axIBFfzX0hKC",
        "outputId": "3bc62d52-6bb6-445b-9f6d-ca70dbf2e2e9"
      },
      "source": [
        "print(inputs.shape)\n",
        "print(targets.shape)"
      ],
      "execution_count": null,
      "outputs": [
        {
          "output_type": "stream",
          "text": [
            "(680, 20)\n",
            "(680,)\n"
          ],
          "name": "stdout"
        }
      ]
    },
    {
      "cell_type": "code",
      "metadata": {
        "id": "pp6yeRgJ2O1m"
      },
      "source": [
        "window_size = 20\n",
        "\n",
        "test_inputs = []\n",
        "test_targets = []\n",
        "for i in range(len(test) - window_size):\n",
        "    test_inputs.append(np.array(test[i:i+window_size]))\n",
        "    test_targets.append(np.array(test[i+window_size]))\n",
        "test_inputs=np.array(test_inputs)\n",
        "test_targets = np.array(test_targets)"
      ],
      "execution_count": null,
      "outputs": []
    },
    {
      "cell_type": "code",
      "metadata": {
        "id": "IfQrI9iE3IdD"
      },
      "source": [
        "test_inputs = np.expand_dims(test_inputs,2)"
      ],
      "execution_count": null,
      "outputs": []
    },
    {
      "cell_type": "code",
      "metadata": {
        "colab": {
          "base_uri": "https://localhost:8080/"
        },
        "id": "Mer1Y4jJ3OQU",
        "outputId": "e0b13f4d-57e5-4550-e43d-954c0f04a356"
      },
      "source": [
        "test_inputs.shape"
      ],
      "execution_count": null,
      "outputs": [
        {
          "output_type": "execute_result",
          "data": {
            "text/plain": [
              "(280, 20, 1)"
            ]
          },
          "metadata": {
            "tags": []
          },
          "execution_count": 16
        }
      ]
    },
    {
      "cell_type": "code",
      "metadata": {
        "id": "jXDOuOuF3Qr7"
      },
      "source": [
        "inputs = np.expand_dims(inputs,2)\n",
        "targets = np.expand_dims(targets,1)\n",
        "test_targets = np.expand_dims(test_targets,1)"
      ],
      "execution_count": null,
      "outputs": []
    },
    {
      "cell_type": "code",
      "metadata": {
        "colab": {
          "base_uri": "https://localhost:8080/"
        },
        "id": "AJ3xgJgjc00J",
        "outputId": "c9ea0e4a-58ad-4570-8d04-08e292c18ba5"
      },
      "source": [
        "test_targets.shape"
      ],
      "execution_count": null,
      "outputs": [
        {
          "output_type": "execute_result",
          "data": {
            "text/plain": [
              "(280, 1)"
            ]
          },
          "metadata": {
            "tags": []
          },
          "execution_count": 18
        }
      ]
    },
    {
      "cell_type": "code",
      "metadata": {
        "id": "NKoZ-kp60RSc"
      },
      "source": [
        "import tensorflow as tf\n",
        "from tensorflow import keras\n",
        "from tensorflow.keras import layers\n",
        "\n",
        "model = tf.keras.Sequential()\n",
        "model.add(layers.SimpleRNN(10, \n",
        "               input_shape=(20,1), \n",
        "               activation='relu', \n",
        "               return_sequences=False)\n",
        "          )\n",
        "model.add(layers.Dense(1))"
      ],
      "execution_count": null,
      "outputs": []
    },
    {
      "cell_type": "code",
      "metadata": {
        "colab": {
          "base_uri": "https://localhost:8080/"
        },
        "id": "RFgOjRIe06gr",
        "outputId": "17346261-0c4f-4bcf-ce93-39bb5297e76c"
      },
      "source": [
        "model.summary()"
      ],
      "execution_count": null,
      "outputs": [
        {
          "output_type": "stream",
          "text": [
            "Model: \"sequential\"\n",
            "_________________________________________________________________\n",
            "Layer (type)                 Output Shape              Param #   \n",
            "=================================================================\n",
            "simple_rnn (SimpleRNN)       (None, 10)                120       \n",
            "_________________________________________________________________\n",
            "dense (Dense)                (None, 1)                 11        \n",
            "=================================================================\n",
            "Total params: 131\n",
            "Trainable params: 131\n",
            "Non-trainable params: 0\n",
            "_________________________________________________________________\n"
          ],
          "name": "stdout"
        }
      ]
    },
    {
      "cell_type": "code",
      "metadata": {
        "colab": {
          "base_uri": "https://localhost:8080/"
        },
        "id": "F5sfZvUd1qS7",
        "outputId": "f9dfb2bd-c746-4293-b6fb-e13e0ed27f76"
      },
      "source": [
        "model.compile(loss='mean_squared_error', optimizer='adam')\n",
        "\n",
        "history = model.fit(inputs, targets, \n",
        "                                    epochs=30, \n",
        "                                    batch_size=16,\n",
        "                                    validation_data=(test_inputs, test_targets))"
      ],
      "execution_count": null,
      "outputs": [
        {
          "output_type": "stream",
          "text": [
            "Epoch 1/30\n",
            "43/43 [==============================] - 2s 18ms/step - loss: 0.3011 - val_loss: 0.0760\n",
            "Epoch 2/30\n",
            "43/43 [==============================] - 0s 6ms/step - loss: 0.0422 - val_loss: 0.0121\n",
            "Epoch 3/30\n",
            "43/43 [==============================] - 0s 6ms/step - loss: 0.0114 - val_loss: 0.0081\n",
            "Epoch 4/30\n",
            "43/43 [==============================] - 0s 5ms/step - loss: 0.0079 - val_loss: 0.0056\n",
            "Epoch 5/30\n",
            "43/43 [==============================] - 0s 6ms/step - loss: 0.0054 - val_loss: 0.0037\n",
            "Epoch 6/30\n",
            "43/43 [==============================] - 0s 6ms/step - loss: 0.0037 - val_loss: 0.0024\n",
            "Epoch 7/30\n",
            "43/43 [==============================] - 0s 5ms/step - loss: 0.0022 - val_loss: 0.0015\n",
            "Epoch 8/30\n",
            "43/43 [==============================] - 0s 6ms/step - loss: 0.0013 - val_loss: 8.3891e-04\n",
            "Epoch 9/30\n",
            "43/43 [==============================] - 0s 5ms/step - loss: 7.5178e-04 - val_loss: 4.6793e-04\n",
            "Epoch 10/30\n",
            "43/43 [==============================] - 0s 5ms/step - loss: 3.9902e-04 - val_loss: 3.3969e-04\n",
            "Epoch 11/30\n",
            "43/43 [==============================] - 0s 5ms/step - loss: 2.8387e-04 - val_loss: 2.5353e-04\n",
            "Epoch 12/30\n",
            "43/43 [==============================] - 0s 6ms/step - loss: 2.0672e-04 - val_loss: 1.9045e-04\n",
            "Epoch 13/30\n",
            "43/43 [==============================] - 0s 6ms/step - loss: 1.5861e-04 - val_loss: 1.5036e-04\n",
            "Epoch 14/30\n",
            "43/43 [==============================] - 0s 6ms/step - loss: 1.3302e-04 - val_loss: 1.1825e-04\n",
            "Epoch 15/30\n",
            "43/43 [==============================] - 0s 6ms/step - loss: 1.0255e-04 - val_loss: 9.4593e-05\n",
            "Epoch 16/30\n",
            "43/43 [==============================] - 0s 6ms/step - loss: 8.0883e-05 - val_loss: 7.7959e-05\n",
            "Epoch 17/30\n",
            "43/43 [==============================] - 0s 5ms/step - loss: 6.7732e-05 - val_loss: 6.5808e-05\n",
            "Epoch 18/30\n",
            "43/43 [==============================] - 0s 5ms/step - loss: 6.2291e-05 - val_loss: 5.6627e-05\n",
            "Epoch 19/30\n",
            "43/43 [==============================] - 0s 5ms/step - loss: 5.1091e-05 - val_loss: 4.8149e-05\n",
            "Epoch 20/30\n",
            "43/43 [==============================] - 0s 6ms/step - loss: 4.7756e-05 - val_loss: 4.2951e-05\n",
            "Epoch 21/30\n",
            "43/43 [==============================] - 0s 6ms/step - loss: 4.0582e-05 - val_loss: 3.9301e-05\n",
            "Epoch 22/30\n",
            "43/43 [==============================] - 0s 5ms/step - loss: 3.8025e-05 - val_loss: 3.5237e-05\n",
            "Epoch 23/30\n",
            "43/43 [==============================] - 0s 5ms/step - loss: 3.4012e-05 - val_loss: 3.1796e-05\n",
            "Epoch 24/30\n",
            "43/43 [==============================] - 0s 5ms/step - loss: 3.1330e-05 - val_loss: 3.0960e-05\n",
            "Epoch 25/30\n",
            "43/43 [==============================] - 0s 6ms/step - loss: 2.9916e-05 - val_loss: 2.9202e-05\n",
            "Epoch 26/30\n",
            "43/43 [==============================] - 0s 5ms/step - loss: 2.7500e-05 - val_loss: 2.7093e-05\n",
            "Epoch 27/30\n",
            "43/43 [==============================] - 0s 5ms/step - loss: 2.7171e-05 - val_loss: 2.7785e-05\n",
            "Epoch 28/30\n",
            "43/43 [==============================] - 0s 5ms/step - loss: 2.6301e-05 - val_loss: 2.5715e-05\n",
            "Epoch 29/30\n",
            "43/43 [==============================] - 0s 5ms/step - loss: 2.4669e-05 - val_loss: 2.3488e-05\n",
            "Epoch 30/30\n",
            "43/43 [==============================] - 0s 6ms/step - loss: 2.2807e-05 - val_loss: 2.3342e-05\n"
          ],
          "name": "stdout"
        }
      ]
    },
    {
      "cell_type": "code",
      "metadata": {
        "id": "VxXqqW5m2gY6"
      },
      "source": [
        "pred = model.predict(test_inputs)"
      ],
      "execution_count": null,
      "outputs": []
    },
    {
      "cell_type": "code",
      "metadata": {
        "colab": {
          "base_uri": "https://localhost:8080/"
        },
        "id": "7ltKvfdQ39le",
        "outputId": "ae076a75-6054-4d12-ced2-43009fb5a228"
      },
      "source": [
        "plt.plot(test_targets, label = 'true')\n",
        "plt.plot(pred, label = 'prediction')\n",
        "plt.legend()"
      ],
      "execution_count": null,
      "outputs": [
        {
          "output_type": "execute_result",
          "data": {
            "text/plain": [
              "<matplotlib.legend.Legend at 0x7f54548b1c10>"
            ]
          },
          "metadata": {
            "tags": []
          },
          "execution_count": 19
        },
        {
          "output_type": "display_data",
          "data": {
            "image/png": "[encoded data removed]",
            "text/plain": [
              "<Figure size 432x288 with 1 Axes>"
            ]
          },
          "metadata": {
            "tags": [],
            "needs_background": "light"
          }
        }
      ]
    },
    {
      "cell_type": "code",
      "metadata": {
        "id": "loxm26Nv4GCY",
        "colab": {
          "base_uri": "https://localhost:8080/"
        },
        "outputId": "7aa3dfa4-f20d-485f-e418-b18e1086e146"
      },
      "source": [
        "plt.plot(test_targets[-30:], label = 'true')\n",
        "plt.plot(pred[-30:], label = 'prediction')\n",
        "plt.legend()"
      ],
      "execution_count": null,
      "outputs": [
        {
          "output_type": "execute_result",
          "data": {
            "text/plain": [
              "<matplotlib.legend.Legend at 0x7f5459f889d0>"
            ]
          },
          "metadata": {
            "tags": []
          },
          "execution_count": 20
        },
        {
          "output_type": "display_data",
          "data": {
            "image/png": "[encoded data removed]",
            "text/plain": [
              "<Figure size 432x288 with 1 Axes>"
            ]
          },
          "metadata": {
            "tags": [],
            "needs_background": "light"
          }
        }
      ]
    },
    {
      "cell_type": "code",
      "metadata": {
        "id": "Mjau4ogZj7az"
      },
      "source": [
        ""
      ],
      "execution_count": null,
      "outputs": []
    }
  ]
}