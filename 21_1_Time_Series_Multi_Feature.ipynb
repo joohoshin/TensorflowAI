{
  "nbformat": 4,
  "nbformat_minor": 0,
  "metadata": {
    "colab": {
      "name": "21_1_Time Series - Multi Feature.ipynb",
      "provenance": [],
      "collapsed_sections": [],
      "authorship_tag": "ABX9TyOWv/tqyx09nhowPMoyobc1",
      "include_colab_link": true
    },
    "kernelspec": {
      "name": "python3",
      "display_name": "Python 3"
    },
    "language_info": {
      "name": "python"
    }
  },
  "cells": [
    {
      "cell_type": "markdown",
      "metadata": {
        "id": "view-in-github",
        "colab_type": "text"
      },
      "source": [
        "<a href=\"https://colab.research.google.com/github/joohoshin/TensorflowAI/blob/main/21_1_Time_Series_Multi_Feature.ipynb\" target=\"_parent\"><img src=\"https://colab.research.google.com/assets/colab-badge.svg\" alt=\"Open In Colab\"/></a>"
      ]
    },
    {
      "cell_type": "markdown",
      "metadata": {
        "id": "fbg3tMG3vhD-"
      },
      "source": [
        "여러 Feature를 사용해서 예측해봅시다\n",
        "\n",
        "https://www.tensorflow.org/tutorials/structured_data/time_series\n"
      ]
    },
    {
      "cell_type": "code",
      "metadata": {
        "id": "DfyMEcBRveUb"
      },
      "source": [
        "import numpy as np\n",
        "import tensorflow as tf\n",
        "from tensorflow import keras\n",
        "from tensorflow.keras import layers"
      ],
      "execution_count": null,
      "outputs": []
    },
    {
      "cell_type": "code",
      "metadata": {
        "id": "PBajZfLxvhgN"
      },
      "source": [
        "import pandas_datareader.data as web\n",
        "\n",
        "df = web.DataReader('005930', 'naver', start='2010-01-01', end='2020-12-31')"
      ],
      "execution_count": null,
      "outputs": []
    },
    {
      "cell_type": "code",
      "metadata": {
        "colab": {
          "base_uri": "https://localhost:8080/",
          "height": 446
        },
        "id": "7tfWHyQ-wgug",
        "outputId": "88de3e33-d3a3-47f5-838a-b0452c83cdd6"
      },
      "source": [
        "df"
      ],
      "execution_count": null,
      "outputs": [
        {
          "output_type": "execute_result",
          "data": {
            "text/html": [
              "<div>\n",
              "<style scoped>\n",
              "    .dataframe tbody tr th:only-of-type {\n",
              "        vertical-align: middle;\n",
              "    }\n",
              "\n",
              "    .dataframe tbody tr th {\n",
              "        vertical-align: top;\n",
              "    }\n",
              "\n",
              "    .dataframe thead th {\n",
              "        text-align: right;\n",
              "    }\n",
              "</style>\n",
              "<table border=\"1\" class=\"dataframe\">\n",
              "  <thead>\n",
              "    <tr style=\"text-align: right;\">\n",
              "      <th></th>\n",
              "      <th>Open</th>\n",
              "      <th>High</th>\n",
              "      <th>Low</th>\n",
              "      <th>Close</th>\n",
              "      <th>Volume</th>\n",
              "    </tr>\n",
              "    <tr>\n",
              "      <th>Date</th>\n",
              "      <th></th>\n",
              "      <th></th>\n",
              "      <th></th>\n",
              "      <th></th>\n",
              "      <th></th>\n",
              "    </tr>\n",
              "  </thead>\n",
              "  <tbody>\n",
              "    <tr>\n",
              "      <th>2010-01-04</th>\n",
              "      <td>16060</td>\n",
              "      <td>16180</td>\n",
              "      <td>16000</td>\n",
              "      <td>16180</td>\n",
              "      <td>239271</td>\n",
              "    </tr>\n",
              "    <tr>\n",
              "      <th>2010-01-05</th>\n",
              "      <td>16520</td>\n",
              "      <td>16580</td>\n",
              "      <td>16300</td>\n",
              "      <td>16440</td>\n",
              "      <td>559219</td>\n",
              "    </tr>\n",
              "    <tr>\n",
              "      <th>2010-01-06</th>\n",
              "      <td>16580</td>\n",
              "      <td>16820</td>\n",
              "      <td>16520</td>\n",
              "      <td>16820</td>\n",
              "      <td>459755</td>\n",
              "    </tr>\n",
              "    <tr>\n",
              "      <th>2010-01-07</th>\n",
              "      <td>16820</td>\n",
              "      <td>16820</td>\n",
              "      <td>16260</td>\n",
              "      <td>16260</td>\n",
              "      <td>443237</td>\n",
              "    </tr>\n",
              "    <tr>\n",
              "      <th>2010-01-08</th>\n",
              "      <td>16400</td>\n",
              "      <td>16420</td>\n",
              "      <td>16120</td>\n",
              "      <td>16420</td>\n",
              "      <td>295798</td>\n",
              "    </tr>\n",
              "    <tr>\n",
              "      <th>...</th>\n",
              "      <td>...</td>\n",
              "      <td>...</td>\n",
              "      <td>...</td>\n",
              "      <td>...</td>\n",
              "      <td>...</td>\n",
              "    </tr>\n",
              "    <tr>\n",
              "      <th>2020-12-23</th>\n",
              "      <td>72400</td>\n",
              "      <td>74000</td>\n",
              "      <td>72300</td>\n",
              "      <td>73900</td>\n",
              "      <td>19411326</td>\n",
              "    </tr>\n",
              "    <tr>\n",
              "      <th>2020-12-24</th>\n",
              "      <td>74100</td>\n",
              "      <td>78800</td>\n",
              "      <td>74000</td>\n",
              "      <td>77800</td>\n",
              "      <td>32502870</td>\n",
              "    </tr>\n",
              "    <tr>\n",
              "      <th>2020-12-28</th>\n",
              "      <td>79000</td>\n",
              "      <td>80100</td>\n",
              "      <td>78200</td>\n",
              "      <td>78700</td>\n",
              "      <td>40085044</td>\n",
              "    </tr>\n",
              "    <tr>\n",
              "      <th>2020-12-29</th>\n",
              "      <td>78800</td>\n",
              "      <td>78900</td>\n",
              "      <td>77300</td>\n",
              "      <td>78300</td>\n",
              "      <td>30339449</td>\n",
              "    </tr>\n",
              "    <tr>\n",
              "      <th>2020-12-30</th>\n",
              "      <td>77400</td>\n",
              "      <td>81300</td>\n",
              "      <td>77300</td>\n",
              "      <td>81000</td>\n",
              "      <td>29417421</td>\n",
              "    </tr>\n",
              "  </tbody>\n",
              "</table>\n",
              "<p>2714 rows × 5 columns</p>\n",
              "</div>"
            ],
            "text/plain": [
              "             Open   High    Low  Close    Volume\n",
              "Date                                            \n",
              "2010-01-04  16060  16180  16000  16180    239271\n",
              "2010-01-05  16520  16580  16300  16440    559219\n",
              "2010-01-06  16580  16820  16520  16820    459755\n",
              "2010-01-07  16820  16820  16260  16260    443237\n",
              "2010-01-08  16400  16420  16120  16420    295798\n",
              "...           ...    ...    ...    ...       ...\n",
              "2020-12-23  72400  74000  72300  73900  19411326\n",
              "2020-12-24  74100  78800  74000  77800  32502870\n",
              "2020-12-28  79000  80100  78200  78700  40085044\n",
              "2020-12-29  78800  78900  77300  78300  30339449\n",
              "2020-12-30  77400  81300  77300  81000  29417421\n",
              "\n",
              "[2714 rows x 5 columns]"
            ]
          },
          "metadata": {
            "tags": []
          },
          "execution_count": 3
        }
      ]
    },
    {
      "cell_type": "code",
      "metadata": {
        "colab": {
          "base_uri": "https://localhost:8080/"
        },
        "id": "MZ9-PpH1v4tL",
        "outputId": "dc1d2eec-3e7c-4c66-d128-c14cd9bd672a"
      },
      "source": [
        "df.dtypes"
      ],
      "execution_count": null,
      "outputs": [
        {
          "output_type": "execute_result",
          "data": {
            "text/plain": [
              "Open      object\n",
              "High      object\n",
              "Low       object\n",
              "Close     object\n",
              "Volume    object\n",
              "dtype: object"
            ]
          },
          "metadata": {
            "tags": []
          },
          "execution_count": 4
        }
      ]
    },
    {
      "cell_type": "code",
      "metadata": {
        "id": "Tv_9LZov58hY"
      },
      "source": [
        "import pandas as pd\n",
        "df=df.apply(pd.to_numeric)"
      ],
      "execution_count": null,
      "outputs": []
    },
    {
      "cell_type": "code",
      "metadata": {
        "colab": {
          "base_uri": "https://localhost:8080/"
        },
        "id": "ii41J_OT6A3y",
        "outputId": "791d5fa6-fba4-4c55-8315-80158772d9bd"
      },
      "source": [
        "df.dtypes"
      ],
      "execution_count": null,
      "outputs": [
        {
          "output_type": "execute_result",
          "data": {
            "text/plain": [
              "Open      int64\n",
              "High      int64\n",
              "Low       int64\n",
              "Close     int64\n",
              "Volume    int64\n",
              "dtype: object"
            ]
          },
          "metadata": {
            "tags": []
          },
          "execution_count": 6
        }
      ]
    },
    {
      "cell_type": "code",
      "metadata": {
        "colab": {
          "base_uri": "https://localhost:8080/",
          "height": 288
        },
        "id": "YpFIEjum6EU0",
        "outputId": "db09f06c-c9e2-43a7-d35c-e3c395c8c04c"
      },
      "source": [
        "df.Close.plot()"
      ],
      "execution_count": null,
      "outputs": [
        {
          "output_type": "execute_result",
          "data": {
            "text/plain": [
              "<matplotlib.axes._subplots.AxesSubplot at 0x7f94abcd6510>"
            ]
          },
          "metadata": {
            "tags": []
          },
          "execution_count": 5
        },
        {
          "output_type": "display_data",
          "data": {
            "image/png": "[encoded data removed]",
            "text/plain": [
              "<Figure size 432x288 with 1 Axes>"
            ]
          },
          "metadata": {
            "tags": [],
            "needs_background": "light"
          }
        }
      ]
    },
    {
      "cell_type": "code",
      "metadata": {
        "id": "eiLlhs0BwF6t"
      },
      "source": [
        "TEST_SIZE = 300\n",
        "\n",
        "train = df[:-TEST_SIZE]\n",
        "test = df[-TEST_SIZE:]"
      ],
      "execution_count": null,
      "outputs": []
    },
    {
      "cell_type": "code",
      "metadata": {
        "id": "a3-NZXr4zUiy"
      },
      "source": [
        "import numpy as np\n",
        "window_size = 20\n",
        "pred_size = 5\n",
        "\n",
        "inputs = []\n",
        "targets = []\n",
        "for i in range(len(train) - window_size-pred_size):\n",
        "    inputs.append(np.array(train[i:i+window_size]))\n",
        "    targets.append(np.array(train.Close[i+window_size:i+window_size+pred_size]))\n"
      ],
      "execution_count": null,
      "outputs": []
    },
    {
      "cell_type": "code",
      "metadata": {
        "colab": {
          "base_uri": "https://localhost:8080/"
        },
        "id": "BwoRwcWUztwP",
        "outputId": "4fc353b0-b890-4180-9e35-5b0f3c9bebd7"
      },
      "source": [
        "inputs[0]"
      ],
      "execution_count": null,
      "outputs": [
        {
          "output_type": "execute_result",
          "data": {
            "text/plain": [
              "array([[ 16060,  16180,  16000,  16180, 239271],\n",
              "       [ 16520,  16580,  16300,  16440, 559219],\n",
              "       [ 16580,  16820,  16520,  16820, 459755],\n",
              "       [ 16820,  16820,  16260,  16260, 443237],\n",
              "       [ 16400,  16420,  16120,  16420, 295798],\n",
              "       [ 16420,  16460,  15940,  15940, 398901],\n",
              "       [ 15940,  16180,  15900,  16180, 384460],\n",
              "       [ 16100,  16119,  15940,  15940, 267619],\n",
              "       [ 16120,  16620,  16000,  16540, 532705],\n",
              "       [ 16640,  16860,  16580,  16840, 398401],\n",
              "       [ 16800,  16920,  16560,  16860, 261691],\n",
              "       [ 17000,  17000,  16440,  16460, 241308],\n",
              "       [ 16460,  16740,  16460,  16680, 384306],\n",
              "       [ 16400,  17000,  16400,  17000, 340148],\n",
              "       [ 16800,  16900,  16360,  16500, 470536],\n",
              "       [ 16320,  16960,  16300,  16840, 412797],\n",
              "       [ 16920,  16920,  16240,  16300, 375210],\n",
              "       [ 16300,  16340,  16000,  16000, 370760],\n",
              "       [ 16160,  16300,  16060,  16160, 276614],\n",
              "       [ 16000,  16019,  15600,  15680, 457285]])"
            ]
          },
          "metadata": {
            "tags": []
          },
          "execution_count": 9
        }
      ]
    },
    {
      "cell_type": "code",
      "metadata": {
        "colab": {
          "base_uri": "https://localhost:8080/"
        },
        "id": "vI_K2YfY0MpH",
        "outputId": "d5d3511b-c4f3-4be8-f0e6-3cf40919e4ae"
      },
      "source": [
        "targets[0]"
      ],
      "execution_count": null,
      "outputs": [
        {
          "output_type": "execute_result",
          "data": {
            "text/plain": [
              "array([15540, 15440, 15540, 15520, 15000])"
            ]
          },
          "metadata": {
            "tags": []
          },
          "execution_count": 10
        }
      ]
    },
    {
      "cell_type": "code",
      "metadata": {
        "colab": {
          "base_uri": "https://localhost:8080/",
          "height": 999
        },
        "id": "EGSauxhC71c7",
        "outputId": "96dd32fb-2aa0-480b-b498-84bf3a108cfe"
      },
      "source": [
        "df.head(30)"
      ],
      "execution_count": null,
      "outputs": [
        {
          "output_type": "execute_result",
          "data": {
            "text/html": [
              "<div>\n",
              "<style scoped>\n",
              "    .dataframe tbody tr th:only-of-type {\n",
              "        vertical-align: middle;\n",
              "    }\n",
              "\n",
              "    .dataframe tbody tr th {\n",
              "        vertical-align: top;\n",
              "    }\n",
              "\n",
              "    .dataframe thead th {\n",
              "        text-align: right;\n",
              "    }\n",
              "</style>\n",
              "<table border=\"1\" class=\"dataframe\">\n",
              "  <thead>\n",
              "    <tr style=\"text-align: right;\">\n",
              "      <th></th>\n",
              "      <th>Open</th>\n",
              "      <th>High</th>\n",
              "      <th>Low</th>\n",
              "      <th>Close</th>\n",
              "      <th>Volume</th>\n",
              "    </tr>\n",
              "    <tr>\n",
              "      <th>Date</th>\n",
              "      <th></th>\n",
              "      <th></th>\n",
              "      <th></th>\n",
              "      <th></th>\n",
              "      <th></th>\n",
              "    </tr>\n",
              "  </thead>\n",
              "  <tbody>\n",
              "    <tr>\n",
              "      <th>2010-01-04</th>\n",
              "      <td>16060</td>\n",
              "      <td>16180</td>\n",
              "      <td>16000</td>\n",
              "      <td>16180</td>\n",
              "      <td>239271</td>\n",
              "    </tr>\n",
              "    <tr>\n",
              "      <th>2010-01-05</th>\n",
              "      <td>16520</td>\n",
              "      <td>16580</td>\n",
              "      <td>16300</td>\n",
              "      <td>16440</td>\n",
              "      <td>559219</td>\n",
              "    </tr>\n",
              "    <tr>\n",
              "      <th>2010-01-06</th>\n",
              "      <td>16580</td>\n",
              "      <td>16820</td>\n",
              "      <td>16520</td>\n",
              "      <td>16820</td>\n",
              "      <td>459755</td>\n",
              "    </tr>\n",
              "    <tr>\n",
              "      <th>2010-01-07</th>\n",
              "      <td>16820</td>\n",
              "      <td>16820</td>\n",
              "      <td>16260</td>\n",
              "      <td>16260</td>\n",
              "      <td>443237</td>\n",
              "    </tr>\n",
              "    <tr>\n",
              "      <th>2010-01-08</th>\n",
              "      <td>16400</td>\n",
              "      <td>16420</td>\n",
              "      <td>16120</td>\n",
              "      <td>16420</td>\n",
              "      <td>295798</td>\n",
              "    </tr>\n",
              "    <tr>\n",
              "      <th>2010-01-11</th>\n",
              "      <td>16420</td>\n",
              "      <td>16460</td>\n",
              "      <td>15940</td>\n",
              "      <td>15940</td>\n",
              "      <td>398901</td>\n",
              "    </tr>\n",
              "    <tr>\n",
              "      <th>2010-01-12</th>\n",
              "      <td>15940</td>\n",
              "      <td>16180</td>\n",
              "      <td>15900</td>\n",
              "      <td>16180</td>\n",
              "      <td>384460</td>\n",
              "    </tr>\n",
              "    <tr>\n",
              "      <th>2010-01-13</th>\n",
              "      <td>16100</td>\n",
              "      <td>16119</td>\n",
              "      <td>15940</td>\n",
              "      <td>15940</td>\n",
              "      <td>267619</td>\n",
              "    </tr>\n",
              "    <tr>\n",
              "      <th>2010-01-14</th>\n",
              "      <td>16120</td>\n",
              "      <td>16620</td>\n",
              "      <td>16000</td>\n",
              "      <td>16540</td>\n",
              "      <td>532705</td>\n",
              "    </tr>\n",
              "    <tr>\n",
              "      <th>2010-01-15</th>\n",
              "      <td>16640</td>\n",
              "      <td>16860</td>\n",
              "      <td>16580</td>\n",
              "      <td>16840</td>\n",
              "      <td>398401</td>\n",
              "    </tr>\n",
              "    <tr>\n",
              "      <th>2010-01-18</th>\n",
              "      <td>16800</td>\n",
              "      <td>16920</td>\n",
              "      <td>16560</td>\n",
              "      <td>16860</td>\n",
              "      <td>261691</td>\n",
              "    </tr>\n",
              "    <tr>\n",
              "      <th>2010-01-19</th>\n",
              "      <td>17000</td>\n",
              "      <td>17000</td>\n",
              "      <td>16440</td>\n",
              "      <td>16460</td>\n",
              "      <td>241308</td>\n",
              "    </tr>\n",
              "    <tr>\n",
              "      <th>2010-01-20</th>\n",
              "      <td>16460</td>\n",
              "      <td>16740</td>\n",
              "      <td>16460</td>\n",
              "      <td>16680</td>\n",
              "      <td>384306</td>\n",
              "    </tr>\n",
              "    <tr>\n",
              "      <th>2010-01-21</th>\n",
              "      <td>16400</td>\n",
              "      <td>17000</td>\n",
              "      <td>16400</td>\n",
              "      <td>17000</td>\n",
              "      <td>340148</td>\n",
              "    </tr>\n",
              "    <tr>\n",
              "      <th>2010-01-22</th>\n",
              "      <td>16800</td>\n",
              "      <td>16900</td>\n",
              "      <td>16360</td>\n",
              "      <td>16500</td>\n",
              "      <td>470536</td>\n",
              "    </tr>\n",
              "    <tr>\n",
              "      <th>2010-01-25</th>\n",
              "      <td>16320</td>\n",
              "      <td>16960</td>\n",
              "      <td>16300</td>\n",
              "      <td>16840</td>\n",
              "      <td>412797</td>\n",
              "    </tr>\n",
              "    <tr>\n",
              "      <th>2010-01-26</th>\n",
              "      <td>16920</td>\n",
              "      <td>16920</td>\n",
              "      <td>16240</td>\n",
              "      <td>16300</td>\n",
              "      <td>375210</td>\n",
              "    </tr>\n",
              "    <tr>\n",
              "      <th>2010-01-27</th>\n",
              "      <td>16300</td>\n",
              "      <td>16340</td>\n",
              "      <td>16000</td>\n",
              "      <td>16000</td>\n",
              "      <td>370760</td>\n",
              "    </tr>\n",
              "    <tr>\n",
              "      <th>2010-01-28</th>\n",
              "      <td>16160</td>\n",
              "      <td>16300</td>\n",
              "      <td>16060</td>\n",
              "      <td>16160</td>\n",
              "      <td>276614</td>\n",
              "    </tr>\n",
              "    <tr>\n",
              "      <th>2010-01-29</th>\n",
              "      <td>16000</td>\n",
              "      <td>16019</td>\n",
              "      <td>15600</td>\n",
              "      <td>15680</td>\n",
              "      <td>457285</td>\n",
              "    </tr>\n",
              "    <tr>\n",
              "      <th>2010-02-01</th>\n",
              "      <td>15679</td>\n",
              "      <td>15700</td>\n",
              "      <td>15300</td>\n",
              "      <td>15540</td>\n",
              "      <td>501042</td>\n",
              "    </tr>\n",
              "    <tr>\n",
              "      <th>2010-02-02</th>\n",
              "      <td>15800</td>\n",
              "      <td>15800</td>\n",
              "      <td>15400</td>\n",
              "      <td>15440</td>\n",
              "      <td>393803</td>\n",
              "    </tr>\n",
              "    <tr>\n",
              "      <th>2010-02-03</th>\n",
              "      <td>15640</td>\n",
              "      <td>15700</td>\n",
              "      <td>15360</td>\n",
              "      <td>15540</td>\n",
              "      <td>330235</td>\n",
              "    </tr>\n",
              "    <tr>\n",
              "      <th>2010-02-04</th>\n",
              "      <td>15500</td>\n",
              "      <td>15660</td>\n",
              "      <td>15440</td>\n",
              "      <td>15520</td>\n",
              "      <td>239799</td>\n",
              "    </tr>\n",
              "    <tr>\n",
              "      <th>2010-02-05</th>\n",
              "      <td>15160</td>\n",
              "      <td>15220</td>\n",
              "      <td>14940</td>\n",
              "      <td>15000</td>\n",
              "      <td>515034</td>\n",
              "    </tr>\n",
              "    <tr>\n",
              "      <th>2010-02-08</th>\n",
              "      <td>14940</td>\n",
              "      <td>15080</td>\n",
              "      <td>14820</td>\n",
              "      <td>14960</td>\n",
              "      <td>439608</td>\n",
              "    </tr>\n",
              "    <tr>\n",
              "      <th>2010-02-09</th>\n",
              "      <td>14959</td>\n",
              "      <td>15220</td>\n",
              "      <td>14840</td>\n",
              "      <td>15220</td>\n",
              "      <td>337459</td>\n",
              "    </tr>\n",
              "    <tr>\n",
              "      <th>2010-02-10</th>\n",
              "      <td>15260</td>\n",
              "      <td>15280</td>\n",
              "      <td>15039</td>\n",
              "      <td>15100</td>\n",
              "      <td>263846</td>\n",
              "    </tr>\n",
              "    <tr>\n",
              "      <th>2010-02-11</th>\n",
              "      <td>15140</td>\n",
              "      <td>15300</td>\n",
              "      <td>15120</td>\n",
              "      <td>15260</td>\n",
              "      <td>265050</td>\n",
              "    </tr>\n",
              "    <tr>\n",
              "      <th>2010-02-12</th>\n",
              "      <td>15340</td>\n",
              "      <td>15340</td>\n",
              "      <td>14900</td>\n",
              "      <td>15000</td>\n",
              "      <td>458574</td>\n",
              "    </tr>\n",
              "  </tbody>\n",
              "</table>\n",
              "</div>"
            ],
            "text/plain": [
              "             Open   High    Low  Close  Volume\n",
              "Date                                          \n",
              "2010-01-04  16060  16180  16000  16180  239271\n",
              "2010-01-05  16520  16580  16300  16440  559219\n",
              "2010-01-06  16580  16820  16520  16820  459755\n",
              "2010-01-07  16820  16820  16260  16260  443237\n",
              "2010-01-08  16400  16420  16120  16420  295798\n",
              "2010-01-11  16420  16460  15940  15940  398901\n",
              "2010-01-12  15940  16180  15900  16180  384460\n",
              "2010-01-13  16100  16119  15940  15940  267619\n",
              "2010-01-14  16120  16620  16000  16540  532705\n",
              "2010-01-15  16640  16860  16580  16840  398401\n",
              "2010-01-18  16800  16920  16560  16860  261691\n",
              "2010-01-19  17000  17000  16440  16460  241308\n",
              "2010-01-20  16460  16740  16460  16680  384306\n",
              "2010-01-21  16400  17000  16400  17000  340148\n",
              "2010-01-22  16800  16900  16360  16500  470536\n",
              "2010-01-25  16320  16960  16300  16840  412797\n",
              "2010-01-26  16920  16920  16240  16300  375210\n",
              "2010-01-27  16300  16340  16000  16000  370760\n",
              "2010-01-28  16160  16300  16060  16160  276614\n",
              "2010-01-29  16000  16019  15600  15680  457285\n",
              "2010-02-01  15679  15700  15300  15540  501042\n",
              "2010-02-02  15800  15800  15400  15440  393803\n",
              "2010-02-03  15640  15700  15360  15540  330235\n",
              "2010-02-04  15500  15660  15440  15520  239799\n",
              "2010-02-05  15160  15220  14940  15000  515034\n",
              "2010-02-08  14940  15080  14820  14960  439608\n",
              "2010-02-09  14959  15220  14840  15220  337459\n",
              "2010-02-10  15260  15280  15039  15100  263846\n",
              "2010-02-11  15140  15300  15120  15260  265050\n",
              "2010-02-12  15340  15340  14900  15000  458574"
            ]
          },
          "metadata": {
            "tags": []
          },
          "execution_count": 11
        }
      ]
    },
    {
      "cell_type": "code",
      "metadata": {
        "id": "Z7f39e4V0rHI"
      },
      "source": [
        "inputs = np.array(inputs)\n",
        "targets = np.array(targets)"
      ],
      "execution_count": null,
      "outputs": []
    },
    {
      "cell_type": "code",
      "metadata": {
        "colab": {
          "base_uri": "https://localhost:8080/"
        },
        "id": "axIBFfzX0hKC",
        "outputId": "eaeddce3-d28f-46cc-e381-b344e258e92f"
      },
      "source": [
        "print(inputs.shape)\n",
        "print(targets.shape)"
      ],
      "execution_count": null,
      "outputs": [
        {
          "output_type": "stream",
          "text": [
            "(2389, 20, 5)\n",
            "(2389, 5)\n"
          ],
          "name": "stdout"
        }
      ]
    },
    {
      "cell_type": "code",
      "metadata": {
        "id": "pp6yeRgJ2O1m"
      },
      "source": [
        "window_size = 20\n",
        "pred_size = 5\n",
        "\n",
        "test_inputs = []\n",
        "test_targets = []\n",
        "for i in range(len(test) - window_size - pred_size):\n",
        "    test_inputs.append(np.array(test[i:i+window_size]))\n",
        "    test_targets.append(np.array(test.Close[i+window_size:i+window_size+pred_size]))\n",
        "test_inputs=np.array(test_inputs)\n",
        "test_targets = np.array(test_targets)"
      ],
      "execution_count": null,
      "outputs": []
    },
    {
      "cell_type": "code",
      "metadata": {
        "colab": {
          "base_uri": "https://localhost:8080/"
        },
        "id": "Im_YxuACHFMb",
        "outputId": "1ff6dc70-52b1-4ef9-cdc0-a161f59f9b12"
      },
      "source": [
        "print(inputs.shape)\n",
        "print(targets.shape)\n",
        "print(test_inputs.shape)\n",
        "print(test_targets.shape)"
      ],
      "execution_count": null,
      "outputs": [
        {
          "output_type": "stream",
          "text": [
            "(2389, 20, 5)\n",
            "(2389, 5)\n",
            "(275, 20, 5)\n",
            "(275, 5)\n"
          ],
          "name": "stdout"
        }
      ]
    },
    {
      "cell_type": "code",
      "metadata": {
        "id": "NKoZ-kp60RSc"
      },
      "source": [
        "import tensorflow as tf\n",
        "from tensorflow import keras\n",
        "from tensorflow.keras import layers\n",
        "\n",
        "model = tf.keras.Sequential()\n",
        "model.add(layers.SimpleRNN(20, \n",
        "                           input_shape=(20,5),\n",
        "                           activation='relu', \n",
        "                           return_sequences=False)\n",
        "          )\n",
        "\n",
        "model.add(layers.Dense(5))\n",
        "model.add(layers.Reshape([5,1]))\n"
      ],
      "execution_count": null,
      "outputs": []
    },
    {
      "cell_type": "code",
      "metadata": {
        "colab": {
          "base_uri": "https://localhost:8080/"
        },
        "id": "RFgOjRIe06gr",
        "outputId": "5ab73c36-4274-480f-dff8-ff205bd4e8ce"
      },
      "source": [
        "model.summary()"
      ],
      "execution_count": null,
      "outputs": [
        {
          "output_type": "stream",
          "text": [
            "Model: \"sequential\"\n",
            "_________________________________________________________________\n",
            "Layer (type)                 Output Shape              Param #   \n",
            "=================================================================\n",
            "simple_rnn (SimpleRNN)       (None, 20)                520       \n",
            "_________________________________________________________________\n",
            "dense (Dense)                (None, 5)                 105       \n",
            "_________________________________________________________________\n",
            "reshape (Reshape)            (None, 5, 1)              0         \n",
            "=================================================================\n",
            "Total params: 625\n",
            "Trainable params: 625\n",
            "Non-trainable params: 0\n",
            "_________________________________________________________________\n"
          ],
          "name": "stdout"
        }
      ]
    },
    {
      "cell_type": "code",
      "metadata": {
        "colab": {
          "base_uri": "https://localhost:8080/"
        },
        "id": "F5sfZvUd1qS7",
        "outputId": "a9112a8b-1a4e-4648-d238-5bb55f8e4497"
      },
      "source": [
        "\n",
        "model.compile(loss='mean_squared_error', optimizer='adam')\n",
        "\n",
        "history = model.fit(inputs, targets, \n",
        "                                    epochs=30, \n",
        "                                    batch_size=32,\n",
        "                                    validation_data=(test_inputs, test_targets))"
      ],
      "execution_count": null,
      "outputs": [
        {
          "output_type": "stream",
          "text": [
            "Epoch 1/30\n",
            "75/75 [==============================] - 1s 8ms/step - loss: 6037356850.5263 - val_loss: 185634521088.0000\n",
            "Epoch 2/30\n",
            "75/75 [==============================] - 0s 5ms/step - loss: 6068412058.9474 - val_loss: 47124287488.0000\n",
            "Epoch 3/30\n",
            "75/75 [==============================] - 0s 5ms/step - loss: 4008804596.2105 - val_loss: 34778873856.0000\n",
            "Epoch 4/30\n",
            "75/75 [==============================] - 0s 5ms/step - loss: 4757623488.0000 - val_loss: 33082503168.0000\n",
            "Epoch 5/30\n",
            "75/75 [==============================] - 0s 5ms/step - loss: 2384767693.4737 - val_loss: 28211140608.0000\n",
            "Epoch 6/30\n",
            "75/75 [==============================] - 0s 5ms/step - loss: 2524431301.8947 - val_loss: 30845339648.0000\n",
            "Epoch 7/30\n",
            "75/75 [==============================] - 0s 5ms/step - loss: 1871647809.2632 - val_loss: 24278632448.0000\n",
            "Epoch 8/30\n",
            "75/75 [==============================] - 0s 5ms/step - loss: 1168008047.1579 - val_loss: 19122573312.0000\n",
            "Epoch 9/30\n",
            "75/75 [==============================] - 0s 5ms/step - loss: 1053389145.2632 - val_loss: 16976742400.0000\n",
            "Epoch 10/30\n",
            "75/75 [==============================] - 0s 5ms/step - loss: 817324367.5789 - val_loss: 13682386944.0000\n",
            "Epoch 11/30\n",
            "75/75 [==============================] - 0s 5ms/step - loss: 694089978.9474 - val_loss: 15864948736.0000\n",
            "Epoch 12/30\n",
            "75/75 [==============================] - 0s 5ms/step - loss: 554798068.6316 - val_loss: 13066909696.0000\n",
            "Epoch 13/30\n",
            "75/75 [==============================] - 0s 6ms/step - loss: 682574389.0526 - val_loss: 8706074624.0000\n",
            "Epoch 14/30\n",
            "75/75 [==============================] - 0s 5ms/step - loss: 522268532.2105 - val_loss: 7278847488.0000\n",
            "Epoch 15/30\n",
            "75/75 [==============================] - 0s 5ms/step - loss: 336092681.2632 - val_loss: 18971172864.0000\n",
            "Epoch 16/30\n",
            "75/75 [==============================] - 0s 5ms/step - loss: 496410264.4211 - val_loss: 4383451648.0000\n",
            "Epoch 17/30\n",
            "75/75 [==============================] - 0s 5ms/step - loss: 337239791.1579 - val_loss: 5208251904.0000\n",
            "Epoch 18/30\n",
            "75/75 [==============================] - 0s 5ms/step - loss: 269237486.9474 - val_loss: 3449811200.0000\n",
            "Epoch 19/30\n",
            "75/75 [==============================] - 0s 5ms/step - loss: 223897982.9474 - val_loss: 2833413376.0000\n",
            "Epoch 20/30\n",
            "75/75 [==============================] - 0s 5ms/step - loss: 141739527.1579 - val_loss: 2445084416.0000\n",
            "Epoch 21/30\n",
            "75/75 [==============================] - 0s 5ms/step - loss: 207293108.6316 - val_loss: 1665892352.0000\n",
            "Epoch 22/30\n",
            "75/75 [==============================] - 0s 5ms/step - loss: 137171441.1579 - val_loss: 1950876800.0000\n",
            "Epoch 23/30\n",
            "75/75 [==============================] - 0s 5ms/step - loss: 152558001.7895 - val_loss: 1300831872.0000\n",
            "Epoch 24/30\n",
            "75/75 [==============================] - 0s 5ms/step - loss: 132663916.3158 - val_loss: 1511299328.0000\n",
            "Epoch 25/30\n",
            "75/75 [==============================] - 0s 5ms/step - loss: 88380451.3684 - val_loss: 1391230080.0000\n",
            "Epoch 26/30\n",
            "75/75 [==============================] - 0s 5ms/step - loss: 103491741.6842 - val_loss: 896156672.0000\n",
            "Epoch 27/30\n",
            "75/75 [==============================] - 0s 5ms/step - loss: 82182228.1053 - val_loss: 1380222848.0000\n",
            "Epoch 28/30\n",
            "75/75 [==============================] - 0s 5ms/step - loss: 93851234.7368 - val_loss: 1255789824.0000\n",
            "Epoch 29/30\n",
            "75/75 [==============================] - 0s 5ms/step - loss: 89935723.0526 - val_loss: 1177840256.0000\n",
            "Epoch 30/30\n",
            "75/75 [==============================] - 0s 5ms/step - loss: 102001938.3684 - val_loss: 1831928704.0000\n"
          ],
          "name": "stdout"
        }
      ]
    },
    {
      "cell_type": "code",
      "metadata": {
        "id": "VxXqqW5m2gY6"
      },
      "source": [
        "pred = model.predict(test_inputs)"
      ],
      "execution_count": null,
      "outputs": []
    },
    {
      "cell_type": "code",
      "metadata": {
        "colab": {
          "base_uri": "https://localhost:8080/"
        },
        "id": "ZAMU2frDAI5v",
        "outputId": "718083aa-0f1a-4d3a-f8d2-0373ed58822b"
      },
      "source": [
        "pred.shape"
      ],
      "execution_count": null,
      "outputs": [
        {
          "output_type": "execute_result",
          "data": {
            "text/plain": [
              "(275, 5, 1)"
            ]
          },
          "metadata": {
            "tags": []
          },
          "execution_count": 27
        }
      ]
    },
    {
      "cell_type": "code",
      "metadata": {
        "colab": {
          "base_uri": "https://localhost:8080/"
        },
        "id": "oLRfhYKXHyFW",
        "outputId": "517b6f6d-115a-4d61-984f-5f1432115283"
      },
      "source": [
        "targets.shape"
      ],
      "execution_count": null,
      "outputs": [
        {
          "output_type": "execute_result",
          "data": {
            "text/plain": [
              "(2389, 5)"
            ]
          },
          "metadata": {
            "tags": []
          },
          "execution_count": 28
        }
      ]
    },
    {
      "cell_type": "code",
      "metadata": {
        "colab": {
          "base_uri": "https://localhost:8080/",
          "height": 284
        },
        "id": "7ltKvfdQ39le",
        "outputId": "38b2b577-c441-40b4-c251-cdec513cb404"
      },
      "source": [
        "import matplotlib.pyplot as plt\n",
        "\n",
        "plt.plot(test_targets[0,:], label = 'true')\n",
        "plt.plot(pred[0,:,0], label = 'prediction')\n",
        "plt.legend()"
      ],
      "execution_count": null,
      "outputs": [
        {
          "output_type": "execute_result",
          "data": {
            "text/plain": [
              "<matplotlib.legend.Legend at 0x7f94a38e8f50>"
            ]
          },
          "metadata": {
            "tags": []
          },
          "execution_count": 29
        },
        {
          "output_type": "display_data",
          "data": {
            "image/png": "[encoded data removed]",
            "text/plain": [
              "<Figure size 432x288 with 1 Axes>"
            ]
          },
          "metadata": {
            "tags": [],
            "needs_background": "light"
          }
        }
      ]
    },
    {
      "cell_type": "code",
      "metadata": {
        "colab": {
          "base_uri": "https://localhost:8080/"
        },
        "id": "0UyR3yeQBCFL",
        "outputId": "a5a92a2b-3a95-4b30-b039-020c3c15906a"
      },
      "source": [
        "test_inputs.shape"
      ],
      "execution_count": null,
      "outputs": [
        {
          "output_type": "execute_result",
          "data": {
            "text/plain": [
              "(275, 20, 5)"
            ]
          },
          "metadata": {
            "tags": []
          },
          "execution_count": 30
        }
      ]
    },
    {
      "cell_type": "code",
      "metadata": {
        "id": "MPc3R4vb66FX",
        "colab": {
          "base_uri": "https://localhost:8080/",
          "height": 284
        },
        "outputId": "baefcf6f-dd2d-4435-bcdf-c6c18c66ecfa"
      },
      "source": [
        "import matplotlib.pyplot as plt\n",
        "plt.plot(test_inputs[0,:,0])\n",
        "plt.plot(range(20,25),test_targets[0,:], label = 'true', marker='o',linestyle='None')\n",
        "plt.plot(range(20,25),pred[0,:,0], label = 'prediction', marker='x',linestyle='None')\n",
        "plt.legend()"
      ],
      "execution_count": null,
      "outputs": [
        {
          "output_type": "execute_result",
          "data": {
            "text/plain": [
              "<matplotlib.legend.Legend at 0x7f94a7715410>"
            ]
          },
          "metadata": {
            "tags": []
          },
          "execution_count": 31
        },
        {
          "output_type": "display_data",
          "data": {
            "image/png": "[encoded data removed]",
            "text/plain": [
              "<Figure size 432x288 with 1 Axes>"
            ]
          },
          "metadata": {
            "tags": [],
            "needs_background": "light"
          }
        }
      ]
    },
    {
      "cell_type": "code",
      "metadata": {
        "id": "k8R3kD0iBeCq"
      },
      "source": [
        ""
      ],
      "execution_count": null,
      "outputs": []
    }
  ]
}