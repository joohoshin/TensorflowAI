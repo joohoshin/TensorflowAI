{
  "nbformat": 4,
  "nbformat_minor": 0,
  "metadata": {
    "colab": {
      "name": "21_2_Data Preprocessing.ipynb",
      "provenance": [],
      "collapsed_sections": [],
      "authorship_tag": "ABX9TyNceT/xUvW6jKz4ZL1ogb8x",
      "include_colab_link": true
    },
    "kernelspec": {
      "name": "python3",
      "display_name": "Python 3"
    },
    "language_info": {
      "name": "python"
    }
  },
  "cells": [
    {
      "cell_type": "markdown",
      "metadata": {
        "id": "view-in-github",
        "colab_type": "text"
      },
      "source": [
        "<a href=\"https://colab.research.google.com/github/joohoshin/TensorflowAI/blob/main/21_2_Data_Preprocessing.ipynb\" target=\"_parent\"><img src=\"https://colab.research.google.com/assets/colab-badge.svg\" alt=\"Open In Colab\"/></a>"
      ]
    },
    {
      "cell_type": "markdown",
      "metadata": {
        "id": "fbg3tMG3vhD-"
      },
      "source": [
        "주가데이터를 표준화해서 학습해봅시다\n"
      ]
    },
    {
      "cell_type": "code",
      "metadata": {
        "id": "DfyMEcBRveUb"
      },
      "source": [
        "import numpy as np\n",
        "import tensorflow as tf\n",
        "from tensorflow import keras\n",
        "from tensorflow.keras import layers"
      ],
      "execution_count": null,
      "outputs": []
    },
    {
      "cell_type": "code",
      "metadata": {
        "id": "PBajZfLxvhgN"
      },
      "source": [
        "import pandas_datareader.data as web\n",
        "\n",
        "df = web.DataReader('005930', 'naver', start='2010-01-01', end='2020-12-31')"
      ],
      "execution_count": null,
      "outputs": []
    },
    {
      "cell_type": "code",
      "metadata": {
        "colab": {
          "base_uri": "https://localhost:8080/",
          "height": 446
        },
        "id": "7tfWHyQ-wgug",
        "outputId": "26d584d2-7628-4c9e-9d8f-53eefe8bdc0c"
      },
      "source": [
        "df"
      ],
      "execution_count": null,
      "outputs": [
        {
          "output_type": "execute_result",
          "data": {
            "text/html": [
              "<div>\n",
              "<style scoped>\n",
              "    .dataframe tbody tr th:only-of-type {\n",
              "        vertical-align: middle;\n",
              "    }\n",
              "\n",
              "    .dataframe tbody tr th {\n",
              "        vertical-align: top;\n",
              "    }\n",
              "\n",
              "    .dataframe thead th {\n",
              "        text-align: right;\n",
              "    }\n",
              "</style>\n",
              "<table border=\"1\" class=\"dataframe\">\n",
              "  <thead>\n",
              "    <tr style=\"text-align: right;\">\n",
              "      <th></th>\n",
              "      <th>Open</th>\n",
              "      <th>High</th>\n",
              "      <th>Low</th>\n",
              "      <th>Close</th>\n",
              "      <th>Volume</th>\n",
              "    </tr>\n",
              "    <tr>\n",
              "      <th>Date</th>\n",
              "      <th></th>\n",
              "      <th></th>\n",
              "      <th></th>\n",
              "      <th></th>\n",
              "      <th></th>\n",
              "    </tr>\n",
              "  </thead>\n",
              "  <tbody>\n",
              "    <tr>\n",
              "      <th>2010-01-04</th>\n",
              "      <td>16060</td>\n",
              "      <td>16180</td>\n",
              "      <td>16000</td>\n",
              "      <td>16180</td>\n",
              "      <td>239271</td>\n",
              "    </tr>\n",
              "    <tr>\n",
              "      <th>2010-01-05</th>\n",
              "      <td>16520</td>\n",
              "      <td>16580</td>\n",
              "      <td>16300</td>\n",
              "      <td>16440</td>\n",
              "      <td>559219</td>\n",
              "    </tr>\n",
              "    <tr>\n",
              "      <th>2010-01-06</th>\n",
              "      <td>16580</td>\n",
              "      <td>16820</td>\n",
              "      <td>16520</td>\n",
              "      <td>16820</td>\n",
              "      <td>459755</td>\n",
              "    </tr>\n",
              "    <tr>\n",
              "      <th>2010-01-07</th>\n",
              "      <td>16820</td>\n",
              "      <td>16820</td>\n",
              "      <td>16260</td>\n",
              "      <td>16260</td>\n",
              "      <td>443237</td>\n",
              "    </tr>\n",
              "    <tr>\n",
              "      <th>2010-01-08</th>\n",
              "      <td>16400</td>\n",
              "      <td>16420</td>\n",
              "      <td>16120</td>\n",
              "      <td>16420</td>\n",
              "      <td>295798</td>\n",
              "    </tr>\n",
              "    <tr>\n",
              "      <th>...</th>\n",
              "      <td>...</td>\n",
              "      <td>...</td>\n",
              "      <td>...</td>\n",
              "      <td>...</td>\n",
              "      <td>...</td>\n",
              "    </tr>\n",
              "    <tr>\n",
              "      <th>2020-12-23</th>\n",
              "      <td>72400</td>\n",
              "      <td>74000</td>\n",
              "      <td>72300</td>\n",
              "      <td>73900</td>\n",
              "      <td>19411326</td>\n",
              "    </tr>\n",
              "    <tr>\n",
              "      <th>2020-12-24</th>\n",
              "      <td>74100</td>\n",
              "      <td>78800</td>\n",
              "      <td>74000</td>\n",
              "      <td>77800</td>\n",
              "      <td>32502870</td>\n",
              "    </tr>\n",
              "    <tr>\n",
              "      <th>2020-12-28</th>\n",
              "      <td>79000</td>\n",
              "      <td>80100</td>\n",
              "      <td>78200</td>\n",
              "      <td>78700</td>\n",
              "      <td>40085044</td>\n",
              "    </tr>\n",
              "    <tr>\n",
              "      <th>2020-12-29</th>\n",
              "      <td>78800</td>\n",
              "      <td>78900</td>\n",
              "      <td>77300</td>\n",
              "      <td>78300</td>\n",
              "      <td>30339449</td>\n",
              "    </tr>\n",
              "    <tr>\n",
              "      <th>2020-12-30</th>\n",
              "      <td>77400</td>\n",
              "      <td>81300</td>\n",
              "      <td>77300</td>\n",
              "      <td>81000</td>\n",
              "      <td>29417421</td>\n",
              "    </tr>\n",
              "  </tbody>\n",
              "</table>\n",
              "<p>2714 rows × 5 columns</p>\n",
              "</div>"
            ],
            "text/plain": [
              "             Open   High    Low  Close    Volume\n",
              "Date                                            \n",
              "2010-01-04  16060  16180  16000  16180    239271\n",
              "2010-01-05  16520  16580  16300  16440    559219\n",
              "2010-01-06  16580  16820  16520  16820    459755\n",
              "2010-01-07  16820  16820  16260  16260    443237\n",
              "2010-01-08  16400  16420  16120  16420    295798\n",
              "...           ...    ...    ...    ...       ...\n",
              "2020-12-23  72400  74000  72300  73900  19411326\n",
              "2020-12-24  74100  78800  74000  77800  32502870\n",
              "2020-12-28  79000  80100  78200  78700  40085044\n",
              "2020-12-29  78800  78900  77300  78300  30339449\n",
              "2020-12-30  77400  81300  77300  81000  29417421\n",
              "\n",
              "[2714 rows x 5 columns]"
            ]
          },
          "metadata": {
            "tags": []
          },
          "execution_count": 3
        }
      ]
    },
    {
      "cell_type": "code",
      "metadata": {
        "colab": {
          "base_uri": "https://localhost:8080/"
        },
        "id": "MZ9-PpH1v4tL",
        "outputId": "89f9ec8a-beea-4e38-e0c1-2990dffb8933"
      },
      "source": [
        "df.dtypes"
      ],
      "execution_count": null,
      "outputs": [
        {
          "output_type": "execute_result",
          "data": {
            "text/plain": [
              "Open      object\n",
              "High      object\n",
              "Low       object\n",
              "Close     object\n",
              "Volume    object\n",
              "dtype: object"
            ]
          },
          "metadata": {
            "tags": []
          },
          "execution_count": 4
        }
      ]
    },
    {
      "cell_type": "code",
      "metadata": {
        "id": "Tv_9LZov58hY"
      },
      "source": [
        "import pandas as pd\n",
        "df=df.apply(pd.to_numeric)"
      ],
      "execution_count": null,
      "outputs": []
    },
    {
      "cell_type": "code",
      "metadata": {
        "colab": {
          "base_uri": "https://localhost:8080/"
        },
        "id": "ii41J_OT6A3y",
        "outputId": "0f495e49-9975-47e6-f472-493a33829073"
      },
      "source": [
        "df.dtypes"
      ],
      "execution_count": null,
      "outputs": [
        {
          "output_type": "execute_result",
          "data": {
            "text/plain": [
              "Open      int64\n",
              "High      int64\n",
              "Low       int64\n",
              "Close     int64\n",
              "Volume    int64\n",
              "dtype: object"
            ]
          },
          "metadata": {
            "tags": []
          },
          "execution_count": 6
        }
      ]
    },
    {
      "cell_type": "code",
      "metadata": {
        "colab": {
          "base_uri": "https://localhost:8080/",
          "height": 288
        },
        "id": "YpFIEjum6EU0",
        "outputId": "82e3cfa4-ef68-44c5-b794-61191257c16c"
      },
      "source": [
        "df.Close.plot()"
      ],
      "execution_count": null,
      "outputs": [
        {
          "output_type": "execute_result",
          "data": {
            "text/plain": [
              "<matplotlib.axes._subplots.AxesSubplot at 0x7f21499740d0>"
            ]
          },
          "metadata": {
            "tags": []
          },
          "execution_count": 7
        },
        {
          "output_type": "display_data",
          "data": {
            "image/png": "[encoded data removed]",
            "text/plain": [
              "<Figure size 432x288 with 1 Axes>"
            ]
          },
          "metadata": {
            "tags": [],
            "needs_background": "light"
          }
        }
      ]
    },
    {
      "cell_type": "code",
      "metadata": {
        "id": "eiLlhs0BwF6t"
      },
      "source": [
        "TEST_SIZE = 300\n",
        "\n",
        "train = df.Close[:-TEST_SIZE]\n",
        "test = df.Close[-TEST_SIZE:]"
      ],
      "execution_count": null,
      "outputs": []
    },
    {
      "cell_type": "code",
      "metadata": {
        "id": "a3-NZXr4zUiy"
      },
      "source": [
        "import numpy as np\n",
        "window_size = 20\n",
        "pred_size = 5\n",
        "\n",
        "inputs = []\n",
        "targets = []\n",
        "for i in range(len(train) - window_size-pred_size):\n",
        "    inputs.append(np.array(train[i:i+window_size])/train[i])  #시작점의 값으로 나누어 모든 학습데이터가 1에서 시작하도록 변경\n",
        "    targets.append(np.array(train[i+window_size:i+window_size+pred_size])/train[i+window_size-1]) #시작점의 전값으로 나누어 모든 학습데이터가 1에서 시작하도록 변경\n"
      ],
      "execution_count": null,
      "outputs": []
    },
    {
      "cell_type": "code",
      "metadata": {
        "colab": {
          "base_uri": "https://localhost:8080/"
        },
        "id": "BwoRwcWUztwP",
        "outputId": "9a29cc4f-f5cb-44fe-c76e-f1436202b590"
      },
      "source": [
        "inputs[1]"
      ],
      "execution_count": null,
      "outputs": [
        {
          "output_type": "execute_result",
          "data": {
            "text/plain": [
              "array([[1.        ],\n",
              "       [1.02311436],\n",
              "       [0.98905109],\n",
              "       [0.99878345],\n",
              "       [0.96958637],\n",
              "       [0.98418491],\n",
              "       [0.96958637],\n",
              "       [1.00608273],\n",
              "       [1.0243309 ],\n",
              "       [1.02554745],\n",
              "       [1.00121655],\n",
              "       [1.01459854],\n",
              "       [1.03406326],\n",
              "       [1.00364964],\n",
              "       [1.0243309 ],\n",
              "       [0.99148418],\n",
              "       [0.97323601],\n",
              "       [0.98296837],\n",
              "       [0.95377129],\n",
              "       [0.94525547]])"
            ]
          },
          "metadata": {
            "tags": []
          },
          "execution_count": 30
        }
      ]
    },
    {
      "cell_type": "code",
      "metadata": {
        "colab": {
          "base_uri": "https://localhost:8080/"
        },
        "id": "vI_K2YfY0MpH",
        "outputId": "969a470a-2a63-45a9-86fe-348317fcc753"
      },
      "source": [
        "targets[0]"
      ],
      "execution_count": null,
      "outputs": [
        {
          "output_type": "execute_result",
          "data": {
            "text/plain": [
              "array([0.99107143, 0.98469388, 0.99107143, 0.98979592, 0.95663265])"
            ]
          },
          "metadata": {
            "tags": []
          },
          "execution_count": 11
        }
      ]
    },
    {
      "cell_type": "code",
      "metadata": {
        "colab": {
          "base_uri": "https://localhost:8080/",
          "height": 999
        },
        "id": "EGSauxhC71c7",
        "outputId": "237be84d-8093-4499-e9c1-f25eb7b3cf18"
      },
      "source": [
        "df.head(30)"
      ],
      "execution_count": null,
      "outputs": [
        {
          "output_type": "execute_result",
          "data": {
            "text/html": [
              "<div>\n",
              "<style scoped>\n",
              "    .dataframe tbody tr th:only-of-type {\n",
              "        vertical-align: middle;\n",
              "    }\n",
              "\n",
              "    .dataframe tbody tr th {\n",
              "        vertical-align: top;\n",
              "    }\n",
              "\n",
              "    .dataframe thead th {\n",
              "        text-align: right;\n",
              "    }\n",
              "</style>\n",
              "<table border=\"1\" class=\"dataframe\">\n",
              "  <thead>\n",
              "    <tr style=\"text-align: right;\">\n",
              "      <th></th>\n",
              "      <th>Open</th>\n",
              "      <th>High</th>\n",
              "      <th>Low</th>\n",
              "      <th>Close</th>\n",
              "      <th>Volume</th>\n",
              "    </tr>\n",
              "    <tr>\n",
              "      <th>Date</th>\n",
              "      <th></th>\n",
              "      <th></th>\n",
              "      <th></th>\n",
              "      <th></th>\n",
              "      <th></th>\n",
              "    </tr>\n",
              "  </thead>\n",
              "  <tbody>\n",
              "    <tr>\n",
              "      <th>2010-01-04</th>\n",
              "      <td>16060</td>\n",
              "      <td>16180</td>\n",
              "      <td>16000</td>\n",
              "      <td>16180</td>\n",
              "      <td>239271</td>\n",
              "    </tr>\n",
              "    <tr>\n",
              "      <th>2010-01-05</th>\n",
              "      <td>16520</td>\n",
              "      <td>16580</td>\n",
              "      <td>16300</td>\n",
              "      <td>16440</td>\n",
              "      <td>559219</td>\n",
              "    </tr>\n",
              "    <tr>\n",
              "      <th>2010-01-06</th>\n",
              "      <td>16580</td>\n",
              "      <td>16820</td>\n",
              "      <td>16520</td>\n",
              "      <td>16820</td>\n",
              "      <td>459755</td>\n",
              "    </tr>\n",
              "    <tr>\n",
              "      <th>2010-01-07</th>\n",
              "      <td>16820</td>\n",
              "      <td>16820</td>\n",
              "      <td>16260</td>\n",
              "      <td>16260</td>\n",
              "      <td>443237</td>\n",
              "    </tr>\n",
              "    <tr>\n",
              "      <th>2010-01-08</th>\n",
              "      <td>16400</td>\n",
              "      <td>16420</td>\n",
              "      <td>16120</td>\n",
              "      <td>16420</td>\n",
              "      <td>295798</td>\n",
              "    </tr>\n",
              "    <tr>\n",
              "      <th>2010-01-11</th>\n",
              "      <td>16420</td>\n",
              "      <td>16460</td>\n",
              "      <td>15940</td>\n",
              "      <td>15940</td>\n",
              "      <td>398901</td>\n",
              "    </tr>\n",
              "    <tr>\n",
              "      <th>2010-01-12</th>\n",
              "      <td>15940</td>\n",
              "      <td>16180</td>\n",
              "      <td>15900</td>\n",
              "      <td>16180</td>\n",
              "      <td>384460</td>\n",
              "    </tr>\n",
              "    <tr>\n",
              "      <th>2010-01-13</th>\n",
              "      <td>16100</td>\n",
              "      <td>16119</td>\n",
              "      <td>15940</td>\n",
              "      <td>15940</td>\n",
              "      <td>267619</td>\n",
              "    </tr>\n",
              "    <tr>\n",
              "      <th>2010-01-14</th>\n",
              "      <td>16120</td>\n",
              "      <td>16620</td>\n",
              "      <td>16000</td>\n",
              "      <td>16540</td>\n",
              "      <td>532705</td>\n",
              "    </tr>\n",
              "    <tr>\n",
              "      <th>2010-01-15</th>\n",
              "      <td>16640</td>\n",
              "      <td>16860</td>\n",
              "      <td>16580</td>\n",
              "      <td>16840</td>\n",
              "      <td>398401</td>\n",
              "    </tr>\n",
              "    <tr>\n",
              "      <th>2010-01-18</th>\n",
              "      <td>16800</td>\n",
              "      <td>16920</td>\n",
              "      <td>16560</td>\n",
              "      <td>16860</td>\n",
              "      <td>261691</td>\n",
              "    </tr>\n",
              "    <tr>\n",
              "      <th>2010-01-19</th>\n",
              "      <td>17000</td>\n",
              "      <td>17000</td>\n",
              "      <td>16440</td>\n",
              "      <td>16460</td>\n",
              "      <td>241308</td>\n",
              "    </tr>\n",
              "    <tr>\n",
              "      <th>2010-01-20</th>\n",
              "      <td>16460</td>\n",
              "      <td>16740</td>\n",
              "      <td>16460</td>\n",
              "      <td>16680</td>\n",
              "      <td>384306</td>\n",
              "    </tr>\n",
              "    <tr>\n",
              "      <th>2010-01-21</th>\n",
              "      <td>16400</td>\n",
              "      <td>17000</td>\n",
              "      <td>16400</td>\n",
              "      <td>17000</td>\n",
              "      <td>340148</td>\n",
              "    </tr>\n",
              "    <tr>\n",
              "      <th>2010-01-22</th>\n",
              "      <td>16800</td>\n",
              "      <td>16900</td>\n",
              "      <td>16360</td>\n",
              "      <td>16500</td>\n",
              "      <td>470536</td>\n",
              "    </tr>\n",
              "    <tr>\n",
              "      <th>2010-01-25</th>\n",
              "      <td>16320</td>\n",
              "      <td>16960</td>\n",
              "      <td>16300</td>\n",
              "      <td>16840</td>\n",
              "      <td>412797</td>\n",
              "    </tr>\n",
              "    <tr>\n",
              "      <th>2010-01-26</th>\n",
              "      <td>16920</td>\n",
              "      <td>16920</td>\n",
              "      <td>16240</td>\n",
              "      <td>16300</td>\n",
              "      <td>375210</td>\n",
              "    </tr>\n",
              "    <tr>\n",
              "      <th>2010-01-27</th>\n",
              "      <td>16300</td>\n",
              "      <td>16340</td>\n",
              "      <td>16000</td>\n",
              "      <td>16000</td>\n",
              "      <td>370760</td>\n",
              "    </tr>\n",
              "    <tr>\n",
              "      <th>2010-01-28</th>\n",
              "      <td>16160</td>\n",
              "      <td>16300</td>\n",
              "      <td>16060</td>\n",
              "      <td>16160</td>\n",
              "      <td>276614</td>\n",
              "    </tr>\n",
              "    <tr>\n",
              "      <th>2010-01-29</th>\n",
              "      <td>16000</td>\n",
              "      <td>16019</td>\n",
              "      <td>15600</td>\n",
              "      <td>15680</td>\n",
              "      <td>457285</td>\n",
              "    </tr>\n",
              "    <tr>\n",
              "      <th>2010-02-01</th>\n",
              "      <td>15679</td>\n",
              "      <td>15700</td>\n",
              "      <td>15300</td>\n",
              "      <td>15540</td>\n",
              "      <td>501042</td>\n",
              "    </tr>\n",
              "    <tr>\n",
              "      <th>2010-02-02</th>\n",
              "      <td>15800</td>\n",
              "      <td>15800</td>\n",
              "      <td>15400</td>\n",
              "      <td>15440</td>\n",
              "      <td>393803</td>\n",
              "    </tr>\n",
              "    <tr>\n",
              "      <th>2010-02-03</th>\n",
              "      <td>15640</td>\n",
              "      <td>15700</td>\n",
              "      <td>15360</td>\n",
              "      <td>15540</td>\n",
              "      <td>330235</td>\n",
              "    </tr>\n",
              "    <tr>\n",
              "      <th>2010-02-04</th>\n",
              "      <td>15500</td>\n",
              "      <td>15660</td>\n",
              "      <td>15440</td>\n",
              "      <td>15520</td>\n",
              "      <td>239799</td>\n",
              "    </tr>\n",
              "    <tr>\n",
              "      <th>2010-02-05</th>\n",
              "      <td>15160</td>\n",
              "      <td>15220</td>\n",
              "      <td>14940</td>\n",
              "      <td>15000</td>\n",
              "      <td>515034</td>\n",
              "    </tr>\n",
              "    <tr>\n",
              "      <th>2010-02-08</th>\n",
              "      <td>14940</td>\n",
              "      <td>15080</td>\n",
              "      <td>14820</td>\n",
              "      <td>14960</td>\n",
              "      <td>439608</td>\n",
              "    </tr>\n",
              "    <tr>\n",
              "      <th>2010-02-09</th>\n",
              "      <td>14959</td>\n",
              "      <td>15220</td>\n",
              "      <td>14840</td>\n",
              "      <td>15220</td>\n",
              "      <td>337459</td>\n",
              "    </tr>\n",
              "    <tr>\n",
              "      <th>2010-02-10</th>\n",
              "      <td>15260</td>\n",
              "      <td>15280</td>\n",
              "      <td>15039</td>\n",
              "      <td>15100</td>\n",
              "      <td>263846</td>\n",
              "    </tr>\n",
              "    <tr>\n",
              "      <th>2010-02-11</th>\n",
              "      <td>15140</td>\n",
              "      <td>15300</td>\n",
              "      <td>15120</td>\n",
              "      <td>15260</td>\n",
              "      <td>265050</td>\n",
              "    </tr>\n",
              "    <tr>\n",
              "      <th>2010-02-12</th>\n",
              "      <td>15340</td>\n",
              "      <td>15340</td>\n",
              "      <td>14900</td>\n",
              "      <td>15000</td>\n",
              "      <td>458574</td>\n",
              "    </tr>\n",
              "  </tbody>\n",
              "</table>\n",
              "</div>"
            ],
            "text/plain": [
              "             Open   High    Low  Close  Volume\n",
              "Date                                          \n",
              "2010-01-04  16060  16180  16000  16180  239271\n",
              "2010-01-05  16520  16580  16300  16440  559219\n",
              "2010-01-06  16580  16820  16520  16820  459755\n",
              "2010-01-07  16820  16820  16260  16260  443237\n",
              "2010-01-08  16400  16420  16120  16420  295798\n",
              "2010-01-11  16420  16460  15940  15940  398901\n",
              "2010-01-12  15940  16180  15900  16180  384460\n",
              "2010-01-13  16100  16119  15940  15940  267619\n",
              "2010-01-14  16120  16620  16000  16540  532705\n",
              "2010-01-15  16640  16860  16580  16840  398401\n",
              "2010-01-18  16800  16920  16560  16860  261691\n",
              "2010-01-19  17000  17000  16440  16460  241308\n",
              "2010-01-20  16460  16740  16460  16680  384306\n",
              "2010-01-21  16400  17000  16400  17000  340148\n",
              "2010-01-22  16800  16900  16360  16500  470536\n",
              "2010-01-25  16320  16960  16300  16840  412797\n",
              "2010-01-26  16920  16920  16240  16300  375210\n",
              "2010-01-27  16300  16340  16000  16000  370760\n",
              "2010-01-28  16160  16300  16060  16160  276614\n",
              "2010-01-29  16000  16019  15600  15680  457285\n",
              "2010-02-01  15679  15700  15300  15540  501042\n",
              "2010-02-02  15800  15800  15400  15440  393803\n",
              "2010-02-03  15640  15700  15360  15540  330235\n",
              "2010-02-04  15500  15660  15440  15520  239799\n",
              "2010-02-05  15160  15220  14940  15000  515034\n",
              "2010-02-08  14940  15080  14820  14960  439608\n",
              "2010-02-09  14959  15220  14840  15220  337459\n",
              "2010-02-10  15260  15280  15039  15100  263846\n",
              "2010-02-11  15140  15300  15120  15260  265050\n",
              "2010-02-12  15340  15340  14900  15000  458574"
            ]
          },
          "metadata": {
            "tags": []
          },
          "execution_count": 12
        }
      ]
    },
    {
      "cell_type": "code",
      "metadata": {
        "id": "Z7f39e4V0rHI"
      },
      "source": [
        "inputs = np.array(inputs)\n",
        "targets = np.array(targets)"
      ],
      "execution_count": null,
      "outputs": []
    },
    {
      "cell_type": "code",
      "metadata": {
        "colab": {
          "base_uri": "https://localhost:8080/"
        },
        "id": "axIBFfzX0hKC",
        "outputId": "6b7cf2f4-45fb-4edd-8928-f875b8b55a9c"
      },
      "source": [
        "print(inputs.shape)\n",
        "print(targets.shape)"
      ],
      "execution_count": null,
      "outputs": [
        {
          "output_type": "stream",
          "text": [
            "(2389, 20)\n",
            "(2389, 5)\n"
          ],
          "name": "stdout"
        }
      ]
    },
    {
      "cell_type": "code",
      "metadata": {
        "id": "pp6yeRgJ2O1m"
      },
      "source": [
        "window_size = 20\n",
        "pred_size = 5\n",
        "\n",
        "test_inputs = []\n",
        "test_targets = []\n",
        "for i in range(len(test) - window_size - pred_size):\n",
        "    test_inputs.append(np.array(test[i:i+window_size])/test[i])\n",
        "    test_targets.append(np.array(test[i+window_size:i+window_size+pred_size])/test[i+window_size-1])\n",
        "test_inputs=np.array(test_inputs)\n",
        "test_targets = np.array(test_targets)"
      ],
      "execution_count": null,
      "outputs": []
    },
    {
      "cell_type": "code",
      "metadata": {
        "id": "IfQrI9iE3IdD"
      },
      "source": [
        "test_inputs = np.expand_dims(test_inputs,2)"
      ],
      "execution_count": null,
      "outputs": []
    },
    {
      "cell_type": "code",
      "metadata": {
        "colab": {
          "base_uri": "https://localhost:8080/"
        },
        "id": "Mer1Y4jJ3OQU",
        "outputId": "b3031201-84cd-4ef7-effe-e39a1a452074"
      },
      "source": [
        "test_inputs.shape"
      ],
      "execution_count": null,
      "outputs": [
        {
          "output_type": "execute_result",
          "data": {
            "text/plain": [
              "(275, 20, 1)"
            ]
          },
          "metadata": {
            "tags": []
          },
          "execution_count": 17
        }
      ]
    },
    {
      "cell_type": "code",
      "metadata": {
        "colab": {
          "base_uri": "https://localhost:8080/"
        },
        "id": "xvTQXpr0_qxw",
        "outputId": "e1810b46-4e6c-4e05-86be-101a4e9224e8"
      },
      "source": [
        "\n",
        "test_targets.shape"
      ],
      "execution_count": null,
      "outputs": [
        {
          "output_type": "execute_result",
          "data": {
            "text/plain": [
              "(275, 5)"
            ]
          },
          "metadata": {
            "tags": []
          },
          "execution_count": 18
        }
      ]
    },
    {
      "cell_type": "code",
      "metadata": {
        "id": "jXDOuOuF3Qr7"
      },
      "source": [
        "inputs = np.expand_dims(inputs,2)\n",
        "targets = np.expand_dims(targets,2)\n",
        "test_targets = np.expand_dims(test_targets,2)"
      ],
      "execution_count": null,
      "outputs": []
    },
    {
      "cell_type": "code",
      "metadata": {
        "colab": {
          "base_uri": "https://localhost:8080/"
        },
        "id": "01wQ4gAR_kEC",
        "outputId": "aa630976-073b-4705-b6b9-6e93369a4c8d"
      },
      "source": [
        "test_targets.shape"
      ],
      "execution_count": null,
      "outputs": [
        {
          "output_type": "execute_result",
          "data": {
            "text/plain": [
              "(275, 5, 1)"
            ]
          },
          "metadata": {
            "tags": []
          },
          "execution_count": 20
        }
      ]
    },
    {
      "cell_type": "code",
      "metadata": {
        "id": "NKoZ-kp60RSc"
      },
      "source": [
        "import tensorflow as tf\n",
        "from tensorflow import keras\n",
        "from tensorflow.keras import layers\n",
        "\n",
        "model = tf.keras.Sequential()\n",
        "model.add(layers.SimpleRNN(20, \n",
        "                           input_shape=(20,1),\n",
        "                           activation='relu', \n",
        "                           return_sequences=False)\n",
        "          )\n",
        "\n",
        "model.add(layers.Dense(5))\n",
        "model.add(layers.Reshape([5,1]))\n"
      ],
      "execution_count": null,
      "outputs": []
    },
    {
      "cell_type": "code",
      "metadata": {
        "colab": {
          "base_uri": "https://localhost:8080/"
        },
        "id": "RFgOjRIe06gr",
        "outputId": "50eb7c51-67ea-493f-b154-96b64f5784e3"
      },
      "source": [
        "model.summary()"
      ],
      "execution_count": null,
      "outputs": [
        {
          "output_type": "stream",
          "text": [
            "Model: \"sequential\"\n",
            "_________________________________________________________________\n",
            "Layer (type)                 Output Shape              Param #   \n",
            "=================================================================\n",
            "simple_rnn (SimpleRNN)       (None, 20)                440       \n",
            "_________________________________________________________________\n",
            "dense (Dense)                (None, 5)                 105       \n",
            "_________________________________________________________________\n",
            "reshape (Reshape)            (None, 5, 1)              0         \n",
            "=================================================================\n",
            "Total params: 545\n",
            "Trainable params: 545\n",
            "Non-trainable params: 0\n",
            "_________________________________________________________________\n"
          ],
          "name": "stdout"
        }
      ]
    },
    {
      "cell_type": "code",
      "metadata": {
        "colab": {
          "base_uri": "https://localhost:8080/"
        },
        "id": "F5sfZvUd1qS7",
        "outputId": "b5bbceac-9b63-42ca-fa93-0e8459075564"
      },
      "source": [
        "\n",
        "model.compile(loss='mean_squared_error', optimizer='adam')\n",
        "\n",
        "history = model.fit(inputs, targets, \n",
        "                                    epochs=50, \n",
        "                                    batch_size=32,\n",
        "                                    validation_data=(test_inputs, test_targets))"
      ],
      "execution_count": null,
      "outputs": [
        {
          "output_type": "stream",
          "text": [
            "Epoch 1/50\n",
            "75/75 [==============================] - 2s 12ms/step - loss: 1.0083 - val_loss: 0.2874\n",
            "Epoch 2/50\n",
            "75/75 [==============================] - 0s 4ms/step - loss: 0.1511 - val_loss: 0.0046\n",
            "Epoch 3/50\n",
            "75/75 [==============================] - 0s 5ms/step - loss: 0.0029 - val_loss: 0.0042\n",
            "Epoch 4/50\n",
            "75/75 [==============================] - 0s 4ms/step - loss: 0.0027 - val_loss: 0.0039\n",
            "Epoch 5/50\n",
            "75/75 [==============================] - 0s 4ms/step - loss: 0.0024 - val_loss: 0.0036\n",
            "Epoch 6/50\n",
            "75/75 [==============================] - 0s 5ms/step - loss: 0.0024 - val_loss: 0.0033\n",
            "Epoch 7/50\n",
            "75/75 [==============================] - 0s 4ms/step - loss: 0.0022 - val_loss: 0.0029\n",
            "Epoch 8/50\n",
            "75/75 [==============================] - 0s 4ms/step - loss: 0.0019 - val_loss: 0.0025\n",
            "Epoch 9/50\n",
            "75/75 [==============================] - 0s 4ms/step - loss: 0.0016 - val_loss: 0.0024\n",
            "Epoch 10/50\n",
            "75/75 [==============================] - 0s 4ms/step - loss: 0.0016 - val_loss: 0.0020\n",
            "Epoch 11/50\n",
            "75/75 [==============================] - 0s 4ms/step - loss: 0.0014 - val_loss: 0.0021\n",
            "Epoch 12/50\n",
            "75/75 [==============================] - 0s 4ms/step - loss: 0.0013 - val_loss: 0.0019\n",
            "Epoch 13/50\n",
            "75/75 [==============================] - 0s 4ms/step - loss: 0.0013 - val_loss: 0.0019\n",
            "Epoch 14/50\n",
            "75/75 [==============================] - 0s 5ms/step - loss: 0.0013 - val_loss: 0.0018\n",
            "Epoch 15/50\n",
            "75/75 [==============================] - 0s 4ms/step - loss: 0.0012 - val_loss: 0.0018\n",
            "Epoch 16/50\n",
            "75/75 [==============================] - 0s 5ms/step - loss: 0.0012 - val_loss: 0.0016\n",
            "Epoch 17/50\n",
            "75/75 [==============================] - 0s 5ms/step - loss: 0.0013 - val_loss: 0.0016\n",
            "Epoch 18/50\n",
            "75/75 [==============================] - 0s 5ms/step - loss: 0.0012 - val_loss: 0.0015\n",
            "Epoch 19/50\n",
            "75/75 [==============================] - 0s 5ms/step - loss: 0.0011 - val_loss: 0.0016\n",
            "Epoch 20/50\n",
            "75/75 [==============================] - 0s 5ms/step - loss: 0.0011 - val_loss: 0.0015\n",
            "Epoch 21/50\n",
            "75/75 [==============================] - 0s 5ms/step - loss: 0.0011 - val_loss: 0.0017\n",
            "Epoch 22/50\n",
            "75/75 [==============================] - 0s 4ms/step - loss: 0.0011 - val_loss: 0.0014\n",
            "Epoch 23/50\n",
            "75/75 [==============================] - 0s 4ms/step - loss: 0.0010 - val_loss: 0.0014\n",
            "Epoch 24/50\n",
            "75/75 [==============================] - 0s 4ms/step - loss: 0.0010 - val_loss: 0.0014\n",
            "Epoch 25/50\n",
            "75/75 [==============================] - 0s 5ms/step - loss: 0.0010 - val_loss: 0.0019\n",
            "Epoch 26/50\n",
            "75/75 [==============================] - 0s 5ms/step - loss: 0.0011 - val_loss: 0.0014\n",
            "Epoch 27/50\n",
            "75/75 [==============================] - 0s 5ms/step - loss: 9.8743e-04 - val_loss: 0.0014\n",
            "Epoch 28/50\n",
            "75/75 [==============================] - 0s 4ms/step - loss: 9.7184e-04 - val_loss: 0.0014\n",
            "Epoch 29/50\n",
            "75/75 [==============================] - 0s 4ms/step - loss: 0.0011 - val_loss: 0.0014\n",
            "Epoch 30/50\n",
            "75/75 [==============================] - 0s 5ms/step - loss: 0.0010 - val_loss: 0.0014\n",
            "Epoch 31/50\n",
            "75/75 [==============================] - 0s 4ms/step - loss: 0.0010 - val_loss: 0.0014\n",
            "Epoch 32/50\n",
            "75/75 [==============================] - 0s 5ms/step - loss: 9.9985e-04 - val_loss: 0.0014\n",
            "Epoch 33/50\n",
            "75/75 [==============================] - 0s 5ms/step - loss: 9.8445e-04 - val_loss: 0.0014\n",
            "Epoch 34/50\n",
            "75/75 [==============================] - 0s 4ms/step - loss: 0.0010 - val_loss: 0.0014\n",
            "Epoch 35/50\n",
            "75/75 [==============================] - 0s 5ms/step - loss: 0.0010 - val_loss: 0.0015\n",
            "Epoch 36/50\n",
            "75/75 [==============================] - 0s 5ms/step - loss: 0.0010 - val_loss: 0.0013\n",
            "Epoch 37/50\n",
            "75/75 [==============================] - 0s 5ms/step - loss: 8.8939e-04 - val_loss: 0.0016\n",
            "Epoch 38/50\n",
            "75/75 [==============================] - 0s 5ms/step - loss: 0.0010 - val_loss: 0.0019\n",
            "Epoch 39/50\n",
            "75/75 [==============================] - 0s 5ms/step - loss: 0.0011 - val_loss: 0.0015\n",
            "Epoch 40/50\n",
            "75/75 [==============================] - 0s 5ms/step - loss: 9.2434e-04 - val_loss: 0.0014\n",
            "Epoch 41/50\n",
            "75/75 [==============================] - 0s 5ms/step - loss: 9.6265e-04 - val_loss: 0.0014\n",
            "Epoch 42/50\n",
            "75/75 [==============================] - 0s 5ms/step - loss: 9.7531e-04 - val_loss: 0.0016\n",
            "Epoch 43/50\n",
            "75/75 [==============================] - 0s 5ms/step - loss: 9.9178e-04 - val_loss: 0.0013\n",
            "Epoch 44/50\n",
            "75/75 [==============================] - 0s 5ms/step - loss: 9.4246e-04 - val_loss: 0.0015\n",
            "Epoch 45/50\n",
            "75/75 [==============================] - 0s 5ms/step - loss: 0.0012 - val_loss: 0.0013\n",
            "Epoch 46/50\n",
            "75/75 [==============================] - 0s 5ms/step - loss: 8.3960e-04 - val_loss: 0.0015\n",
            "Epoch 47/50\n",
            "75/75 [==============================] - 0s 4ms/step - loss: 9.4661e-04 - val_loss: 0.0015\n",
            "Epoch 48/50\n",
            "75/75 [==============================] - 0s 4ms/step - loss: 9.7950e-04 - val_loss: 0.0013\n",
            "Epoch 49/50\n",
            "75/75 [==============================] - 0s 5ms/step - loss: 8.8263e-04 - val_loss: 0.0014\n",
            "Epoch 50/50\n",
            "75/75 [==============================] - 0s 5ms/step - loss: 9.1402e-04 - val_loss: 0.0013\n"
          ],
          "name": "stdout"
        }
      ]
    },
    {
      "cell_type": "code",
      "metadata": {
        "id": "VxXqqW5m2gY6"
      },
      "source": [
        "pred = model.predict(test_inputs)"
      ],
      "execution_count": null,
      "outputs": []
    },
    {
      "cell_type": "code",
      "metadata": {
        "colab": {
          "base_uri": "https://localhost:8080/"
        },
        "id": "ZAMU2frDAI5v",
        "outputId": "148c1119-98a6-4a42-a711-b231b8047b29"
      },
      "source": [
        "pred.shape"
      ],
      "execution_count": null,
      "outputs": [
        {
          "output_type": "execute_result",
          "data": {
            "text/plain": [
              "(275, 5, 1)"
            ]
          },
          "metadata": {
            "tags": []
          },
          "execution_count": 25
        }
      ]
    },
    {
      "cell_type": "code",
      "metadata": {
        "colab": {
          "base_uri": "https://localhost:8080/",
          "height": 284
        },
        "id": "7ltKvfdQ39le",
        "outputId": "b3b99975-9412-479f-ca51-e1cff6ba8ba3"
      },
      "source": [
        "import matplotlib.pyplot as plt\n",
        "\n",
        "plt.plot(test_targets[1,:,0], label = 'true')\n",
        "plt.plot(pred[1,:,0], label = 'prediction')\n",
        "plt.legend()"
      ],
      "execution_count": null,
      "outputs": [
        {
          "output_type": "execute_result",
          "data": {
            "text/plain": [
              "<matplotlib.legend.Legend at 0x7f214127ab50>"
            ]
          },
          "metadata": {
            "tags": []
          },
          "execution_count": 26
        },
        {
          "output_type": "display_data",
          "data": {
            "image/png": "[encoded data removed]",
            "text/plain": [
              "<Figure size 432x288 with 1 Axes>"
            ]
          },
          "metadata": {
            "tags": [],
            "needs_background": "light"
          }
        }
      ]
    },
    {
      "cell_type": "code",
      "metadata": {
        "colab": {
          "base_uri": "https://localhost:8080/"
        },
        "id": "0UyR3yeQBCFL",
        "outputId": "0594b85d-df95-437a-a1f7-34dbf51390f8"
      },
      "source": [
        "test_inputs.shape"
      ],
      "execution_count": null,
      "outputs": [
        {
          "output_type": "execute_result",
          "data": {
            "text/plain": [
              "(275, 20, 1)"
            ]
          },
          "metadata": {
            "tags": []
          },
          "execution_count": 27
        }
      ]
    },
    {
      "cell_type": "code",
      "metadata": {
        "id": "MPc3R4vb66FX",
        "colab": {
          "base_uri": "https://localhost:8080/",
          "height": 284
        },
        "outputId": "dd7b3817-c8b9-481b-f090-ff2d283d7fde"
      },
      "source": [
        "import matplotlib.pyplot as plt\n",
        "plt.plot(test_inputs[0,:,0]*test[0])\n",
        "plt.plot(range(20,25),test_targets[0,:,0]*test[19], label = 'true', marker='o',linestyle='None')\n",
        "plt.plot(range(20,25),pred[0,:,0]*test[19], label = 'prediction', marker='x',linestyle='None')\n",
        "plt.legend()"
      ],
      "execution_count": null,
      "outputs": [
        {
          "output_type": "execute_result",
          "data": {
            "text/plain": [
              "<matplotlib.legend.Legend at 0x7f21421dc810>"
            ]
          },
          "metadata": {
            "tags": []
          },
          "execution_count": 28
        },
        {
          "output_type": "display_data",
          "data": {
            "image/png": "[encoded data removed]",
            "text/plain": [
              "<Figure size 432x288 with 1 Axes>"
            ]
          },
          "metadata": {
            "tags": [],
            "needs_background": "light"
          }
        }
      ]
    },
    {
      "cell_type": "code",
      "metadata": {
        "id": "k8R3kD0iBeCq"
      },
      "source": [
        ""
      ],
      "execution_count": null,
      "outputs": []
    }
  ]
}