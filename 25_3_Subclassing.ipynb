{
  "nbformat": 4,
  "nbformat_minor": 0,
  "metadata": {
    "colab": {
      "name": "25_3_Subclassing.ipynb",
      "provenance": [],
      "collapsed_sections": [],
      "authorship_tag": "ABX9TyPToV5N4zsGeRCQRJPyB2Br",
      "include_colab_link": true
    },
    "kernelspec": {
      "name": "python3",
      "display_name": "Python 3"
    },
    "language_info": {
      "name": "python"
    }
  },
  "cells": [
    {
      "cell_type": "markdown",
      "metadata": {
        "id": "view-in-github",
        "colab_type": "text"
      },
      "source": [
        "<a href=\"https://colab.research.google.com/github/joohoshin/TensorflowAI/blob/main/25_3_Subclassing.ipynb\" target=\"_parent\"><img src=\"https://colab.research.google.com/assets/colab-badge.svg\" alt=\"Open In Colab\"/></a>"
      ]
    },
    {
      "cell_type": "markdown",
      "metadata": {
        "id": "IDAQSrlGYmbO"
      },
      "source": [
        "Keras의 Layer 구조를 직접 정의할 수도 있습니다. \n",
        "\n",
        "https://www.tensorflow.org/api_docs/python/tf/keras/layers/Layer"
      ]
    },
    {
      "cell_type": "markdown",
      "metadata": {
        "id": "w9ZuoOXNVxfG"
      },
      "source": [
        "파이썬의 클래스에 대해 알아야 합니다\n",
        "\n",
        "https://wikidocs.net/28"
      ]
    },
    {
      "cell_type": "markdown",
      "metadata": {
        "id": "I0V2mckxZjSC"
      },
      "source": [
        "간단한 버전을 만들어봅시다. \n",
        "\n",
        "실제 사용시에는 keras layer의 위의 링크를 참조하여 build, get_config도 구현하는 것이 좋습니다."
      ]
    },
    {
      "cell_type": "code",
      "metadata": {
        "id": "rLB_sSkZW-Qy"
      },
      "source": [
        "\n",
        "from tensorflow import keras\n",
        "\n",
        "class Linear(keras.layers.Layer):\n",
        "    def __init__(self, units=32, input_dim=32):\n",
        "        super().__init__()\n",
        "        w_init = tf.random_normal_initializer()\n",
        "        self.w = tf.Variable(\n",
        "            initial_value=w_init(shape=(input_dim, units), dtype=\"float32\"),\n",
        "            trainable=True,\n",
        "        )\n",
        "        b_init = tf.zeros_initializer()\n",
        "        self.b = tf.Variable(\n",
        "            initial_value=b_init(shape=(units,), dtype=\"float32\"), trainable=True\n",
        "        )\n",
        "\n",
        "    def call(self, inputs):\n",
        "        return tf.matmul(inputs, self.w) + self.b"
      ],
      "execution_count": 8,
      "outputs": []
    },
    {
      "cell_type": "markdown",
      "metadata": {
        "id": "dY7k-vcVdF8-"
      },
      "source": [
        "random_normal_initializer 사용 확인"
      ]
    },
    {
      "cell_type": "code",
      "metadata": {
        "id": "f5Ec8P_KbHYT"
      },
      "source": [
        "import tensorflow as tf\n",
        "w_init = tf.random_normal_initializer()"
      ],
      "execution_count": 9,
      "outputs": []
    },
    {
      "cell_type": "code",
      "metadata": {
        "id": "MU2fCSGzbUWO"
      },
      "source": [
        "initial_value=w_init(shape=(4, 2), dtype=\"float32\")"
      ],
      "execution_count": 10,
      "outputs": []
    },
    {
      "cell_type": "code",
      "metadata": {
        "colab": {
          "base_uri": "https://localhost:8080/"
        },
        "id": "P881BSL0baYD",
        "outputId": "72412f84-cbec-4725-9db7-76d7e4a6bcc2"
      },
      "source": [
        "initial_value"
      ],
      "execution_count": 11,
      "outputs": [
        {
          "output_type": "execute_result",
          "data": {
            "text/plain": [
              "<tf.Tensor: shape=(4, 2), dtype=float32, numpy=\n",
              "array([[ 0.05380461, -0.04474404],\n",
              "       [-0.12714718, -0.02094029],\n",
              "       [-0.09268957,  0.01545976],\n",
              "       [-0.00834726,  0.02165216]], dtype=float32)>"
            ]
          },
          "metadata": {
            "tags": []
          },
          "execution_count": 11
        }
      ]
    },
    {
      "cell_type": "code",
      "metadata": {
        "id": "a0JE1jtSbcpD"
      },
      "source": [
        "dense_simple = Linear(4,2)"
      ],
      "execution_count": 12,
      "outputs": []
    },
    {
      "cell_type": "code",
      "metadata": {
        "id": "F_VuWkG7cD_i"
      },
      "source": [
        "in_ = tf.constant([1.,2.])"
      ],
      "execution_count": 13,
      "outputs": []
    },
    {
      "cell_type": "code",
      "metadata": {
        "colab": {
          "base_uri": "https://localhost:8080/"
        },
        "id": "zWYou4ypcRRq",
        "outputId": "a11d6f38-5b43-4110-adf7-d954e62820e1"
      },
      "source": [
        "in_"
      ],
      "execution_count": 14,
      "outputs": [
        {
          "output_type": "execute_result",
          "data": {
            "text/plain": [
              "<tf.Tensor: shape=(2,), dtype=float32, numpy=array([1., 2.], dtype=float32)>"
            ]
          },
          "metadata": {
            "tags": []
          },
          "execution_count": 14
        }
      ]
    },
    {
      "cell_type": "code",
      "metadata": {
        "colab": {
          "base_uri": "https://localhost:8080/"
        },
        "id": "DFUz5ZK8cFDK",
        "outputId": "f9e16555-5977-4ca1-d94e-8cb9feb93a04"
      },
      "source": [
        "dense_simple([in_])"
      ],
      "execution_count": 15,
      "outputs": [
        {
          "output_type": "execute_result",
          "data": {
            "text/plain": [
              "<tf.Tensor: shape=(1, 4), dtype=float32, numpy=\n",
              "array([[ 0.01617678, -0.04343504,  0.11032546,  0.02377586]],\n",
              "      dtype=float32)>"
            ]
          },
          "metadata": {
            "tags": []
          },
          "execution_count": 15
        }
      ]
    },
    {
      "cell_type": "markdown",
      "metadata": {
        "id": "TAnbOx-va3OD"
      },
      "source": [
        "Model에 대해서도 만들 수 있습니다\n",
        "\n",
        "https://www.tensorflow.org/api_docs/python/tf/keras/Model"
      ]
    },
    {
      "cell_type": "code",
      "metadata": {
        "id": "UpjA6PpvdW5q"
      },
      "source": [
        ""
      ],
      "execution_count": null,
      "outputs": []
    }
  ]
}